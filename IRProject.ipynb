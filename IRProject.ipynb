{
 "cells": [
  {
   "cell_type": "code",
   "execution_count": 309,
   "metadata": {
    "_cell_guid": "b1076dfc-b9ad-4769-8c92-a6c4dae69d19",
    "_kg_hide-input": true,
    "_uuid": "8f2839f25d086af736a60e9eeb907d3b93b6e0e5",
    "execution": {
     "iopub.execute_input": "2022-11-28T18:37:57.500545Z",
     "iopub.status.busy": "2022-11-28T18:37:57.500086Z",
     "iopub.status.idle": "2022-11-28T18:37:59.951050Z",
     "shell.execute_reply": "2022-11-28T18:37:59.950227Z",
     "shell.execute_reply.started": "2022-11-28T18:37:57.500455Z"
    }
   },
   "outputs": [],
   "source": [
    "import pandas as pd\n",
    "import numpy as np\n",
    "\n",
    "\n",
    "import matplotlib.pyplot as plt\n",
    "import matplotlib.lines as mlines\n",
    "import seaborn as sns\n",
    "\n",
    "import warnings\n",
    "\n",
    "import pickle\n",
    "import time\n",
    "\n",
    "import re\n",
    "from bs4 import BeautifulSoup\n",
    "import nltk\n",
    "from nltk.tokenize import ToktokTokenizer\n",
    "from nltk.stem.wordnet import WordNetLemmatizer\n",
    "from nltk.corpus import stopwords\n",
    "from string import punctuation\n",
    "\n",
    "from sklearn.feature_extraction.text import TfidfVectorizer\n",
    "from sklearn.decomposition import LatentDirichletAllocation\n",
    "from sklearn.preprocessing import MultiLabelBinarizer\n",
    "from sklearn.model_selection import train_test_split\n",
    "from sklearn.model_selection import learning_curve\n",
    "from sklearn.model_selection import ShuffleSplit\n",
    "from sklearn.dummy import DummyClassifier\n",
    "from sklearn.naive_bayes import MultinomialNB\n",
    "from sklearn.linear_model import SGDClassifier\n",
    "from sklearn.linear_model import LogisticRegression\n",
    "from sklearn.multiclass import OneVsRestClassifier\n",
    "from sklearn.svm import LinearSVC\n",
    "from sklearn.linear_model import Perceptron\n",
    "from sklearn.linear_model import PassiveAggressiveClassifier\n",
    "from sklearn.neural_network import MLPClassifier\n",
    "from sklearn.ensemble import RandomForestClassifier\n",
    "from sklearn import model_selection\n",
    "from sklearn.metrics import make_scorer\n",
    "from sklearn.metrics import confusion_matrix\n",
    "from sklearn.metrics import hamming_loss\n",
    "from sklearn.metrics import accuracy_score\n",
    "from sklearn.cluster import KMeans\n",
    "\n",
    "\n",
    "import logging\n",
    "\n",
    "from scipy.sparse import hstack\n",
    "\n",
    "warnings.filterwarnings(\"ignore\")\n",
    "plt.style.use('bmh')\n",
    "%matplotlib inline"
   ]
  },
  {
   "cell_type": "code",
   "execution_count": 310,
   "metadata": {
    "_cell_guid": "79c7e3d0-c299-4dcb-8224-4455121ee9b0",
    "_uuid": "d629ff2d2480ee46fbb7e2d37f6b5fab8052498a",
    "execution": {
     "iopub.execute_input": "2022-11-28T18:38:05.428517Z",
     "iopub.status.busy": "2022-11-28T18:38:05.427879Z",
     "iopub.status.idle": "2022-11-28T18:38:05.435364Z",
     "shell.execute_reply": "2022-11-28T18:38:05.434216Z",
     "shell.execute_reply.started": "2022-11-28T18:38:05.428430Z"
    }
   },
   "outputs": [],
   "source": [
    "# Setting a random seed in order to keep the same random results each time I run the notebook\n",
    "np.random.seed(seed=11)\n",
    "con = 100"
   ]
  },
  {
   "cell_type": "code",
   "execution_count": 311,
   "metadata": {
    "_uuid": "dc1c92bf4166de1e2ce4bfb229b40b32eb94374a",
    "execution": {
     "iopub.execute_input": "2022-11-28T18:38:10.180408Z",
     "iopub.status.busy": "2022-11-28T18:38:10.180010Z",
     "iopub.status.idle": "2022-11-28T18:38:10.197742Z",
     "shell.execute_reply": "2022-11-28T18:38:10.196756Z",
     "shell.execute_reply.started": "2022-11-28T18:38:10.180339Z"
    }
   },
   "outputs": [],
   "source": [
    "import os "
   ]
  },
  {
   "cell_type": "code",
   "execution_count": 312,
   "metadata": {
    "_uuid": "120edf8b2306a6391ad992cf3f48598739ec1940",
    "execution": {
     "iopub.execute_input": "2022-11-28T18:38:12.461181Z",
     "iopub.status.busy": "2022-11-28T18:38:12.460478Z",
     "iopub.status.idle": "2022-11-28T18:39:05.363131Z",
     "shell.execute_reply": "2022-11-28T18:39:05.361544Z",
     "shell.execute_reply.started": "2022-11-28T18:38:12.461106Z"
    }
   },
   "outputs": [],
   "source": [
    "# Importing the database \n",
    "\n",
    "df = pd.read_csv(\"/Users/vineeth/Documents/NYIT_MS/Information Retrieval/Questions.csv\", encoding=\"ISO-8859-1\")"
   ]
  },
  {
   "cell_type": "code",
   "execution_count": 313,
   "metadata": {
    "_uuid": "40c3e09d38aecf03ce13fd0d88809e80a67d3d1a",
    "execution": {
     "iopub.execute_input": "2022-11-27T14:18:11.440723Z",
     "iopub.status.busy": "2022-11-27T14:18:11.440391Z",
     "iopub.status.idle": "2022-11-27T14:18:11.574004Z",
     "shell.execute_reply": "2022-11-27T14:18:11.573040Z",
     "shell.execute_reply.started": "2022-11-27T14:18:11.440669Z"
    }
   },
   "outputs": [
    {
     "data": {
      "text/html": [
       "<div>\n",
       "<style scoped>\n",
       "    .dataframe tbody tr th:only-of-type {\n",
       "        vertical-align: middle;\n",
       "    }\n",
       "\n",
       "    .dataframe tbody tr th {\n",
       "        vertical-align: top;\n",
       "    }\n",
       "\n",
       "    .dataframe thead th {\n",
       "        text-align: right;\n",
       "    }\n",
       "</style>\n",
       "<table border=\"1\" class=\"dataframe\">\n",
       "  <thead>\n",
       "    <tr style=\"text-align: right;\">\n",
       "      <th></th>\n",
       "      <th>Id</th>\n",
       "      <th>OwnerUserId</th>\n",
       "      <th>CreationDate</th>\n",
       "      <th>ClosedDate</th>\n",
       "      <th>Score</th>\n",
       "      <th>Title</th>\n",
       "      <th>Body</th>\n",
       "    </tr>\n",
       "  </thead>\n",
       "  <tbody>\n",
       "    <tr>\n",
       "      <th>0</th>\n",
       "      <td>80</td>\n",
       "      <td>26.0</td>\n",
       "      <td>2008-08-01T13:57:07Z</td>\n",
       "      <td>NaN</td>\n",
       "      <td>26</td>\n",
       "      <td>SQLStatement.execute() - multiple queries in o...</td>\n",
       "      <td>&lt;p&gt;I've written a database generation script i...</td>\n",
       "    </tr>\n",
       "    <tr>\n",
       "      <th>1</th>\n",
       "      <td>90</td>\n",
       "      <td>58.0</td>\n",
       "      <td>2008-08-01T14:41:24Z</td>\n",
       "      <td>2012-12-26T03:45:49Z</td>\n",
       "      <td>144</td>\n",
       "      <td>Good branching and merging tutorials for Torto...</td>\n",
       "      <td>&lt;p&gt;Are there any really good tutorials explain...</td>\n",
       "    </tr>\n",
       "    <tr>\n",
       "      <th>2</th>\n",
       "      <td>120</td>\n",
       "      <td>83.0</td>\n",
       "      <td>2008-08-01T15:50:08Z</td>\n",
       "      <td>NaN</td>\n",
       "      <td>21</td>\n",
       "      <td>ASP.NET Site Maps</td>\n",
       "      <td>&lt;p&gt;Has anyone got experience creating &lt;strong&gt;...</td>\n",
       "    </tr>\n",
       "    <tr>\n",
       "      <th>3</th>\n",
       "      <td>180</td>\n",
       "      <td>2089740.0</td>\n",
       "      <td>2008-08-01T18:42:19Z</td>\n",
       "      <td>NaN</td>\n",
       "      <td>53</td>\n",
       "      <td>Function for creating color wheels</td>\n",
       "      <td>&lt;p&gt;This is something I've pseudo-solved many t...</td>\n",
       "    </tr>\n",
       "    <tr>\n",
       "      <th>4</th>\n",
       "      <td>260</td>\n",
       "      <td>91.0</td>\n",
       "      <td>2008-08-01T23:22:08Z</td>\n",
       "      <td>NaN</td>\n",
       "      <td>49</td>\n",
       "      <td>Adding scripting functionality to .NET applica...</td>\n",
       "      <td>&lt;p&gt;I have a little game written in C#. It uses...</td>\n",
       "    </tr>\n",
       "  </tbody>\n",
       "</table>\n",
       "</div>"
      ],
      "text/plain": [
       "    Id  OwnerUserId          CreationDate            ClosedDate  Score  \\\n",
       "0   80         26.0  2008-08-01T13:57:07Z                   NaN     26   \n",
       "1   90         58.0  2008-08-01T14:41:24Z  2012-12-26T03:45:49Z    144   \n",
       "2  120         83.0  2008-08-01T15:50:08Z                   NaN     21   \n",
       "3  180    2089740.0  2008-08-01T18:42:19Z                   NaN     53   \n",
       "4  260         91.0  2008-08-01T23:22:08Z                   NaN     49   \n",
       "\n",
       "                                               Title  \\\n",
       "0  SQLStatement.execute() - multiple queries in o...   \n",
       "1  Good branching and merging tutorials for Torto...   \n",
       "2                                  ASP.NET Site Maps   \n",
       "3                 Function for creating color wheels   \n",
       "4  Adding scripting functionality to .NET applica...   \n",
       "\n",
       "                                                Body  \n",
       "0  <p>I've written a database generation script i...  \n",
       "1  <p>Are there any really good tutorials explain...  \n",
       "2  <p>Has anyone got experience creating <strong>...  \n",
       "3  <p>This is something I've pseudo-solved many t...  \n",
       "4  <p>I have a little game written in C#. It uses...  "
      ]
     },
     "execution_count": 313,
     "metadata": {},
     "output_type": "execute_result"
    }
   ],
   "source": [
    "df.head(5)"
   ]
  },
  {
   "cell_type": "code",
   "execution_count": 314,
   "metadata": {
    "_uuid": "9beed1bea78dd1ed930caeef2923aef03420e1cc",
    "execution": {
     "iopub.execute_input": "2022-11-28T18:39:14.227744Z",
     "iopub.status.busy": "2022-11-28T18:39:14.227068Z",
     "iopub.status.idle": "2022-11-28T18:39:16.528448Z",
     "shell.execute_reply": "2022-11-28T18:39:16.527526Z",
     "shell.execute_reply.started": "2022-11-28T18:39:14.227663Z"
    }
   },
   "outputs": [],
   "source": [
    "tags = pd.read_csv(\"/Users/vineeth/Documents/NYIT_MS/Information Retrieval/Tags.csv\", encoding=\"ISO-8859-1\", dtype={'Tag': str})"
   ]
  },
  {
   "cell_type": "code",
   "execution_count": 315,
   "metadata": {
    "_uuid": "3f4a7e6a7ee2745fc207f19fccb9c0dbc3a571a4",
    "execution": {
     "iopub.execute_input": "2022-11-27T14:18:13.914093Z",
     "iopub.status.busy": "2022-11-27T14:18:13.913729Z",
     "iopub.status.idle": "2022-11-27T14:18:13.930575Z",
     "shell.execute_reply": "2022-11-27T14:18:13.929627Z",
     "shell.execute_reply.started": "2022-11-27T14:18:13.914024Z"
    }
   },
   "outputs": [
    {
     "data": {
      "text/html": [
       "<div>\n",
       "<style scoped>\n",
       "    .dataframe tbody tr th:only-of-type {\n",
       "        vertical-align: middle;\n",
       "    }\n",
       "\n",
       "    .dataframe tbody tr th {\n",
       "        vertical-align: top;\n",
       "    }\n",
       "\n",
       "    .dataframe thead th {\n",
       "        text-align: right;\n",
       "    }\n",
       "</style>\n",
       "<table border=\"1\" class=\"dataframe\">\n",
       "  <thead>\n",
       "    <tr style=\"text-align: right;\">\n",
       "      <th></th>\n",
       "      <th>Id</th>\n",
       "      <th>Tag</th>\n",
       "    </tr>\n",
       "  </thead>\n",
       "  <tbody>\n",
       "    <tr>\n",
       "      <th>0</th>\n",
       "      <td>80</td>\n",
       "      <td>flex</td>\n",
       "    </tr>\n",
       "    <tr>\n",
       "      <th>1</th>\n",
       "      <td>80</td>\n",
       "      <td>actionscript-3</td>\n",
       "    </tr>\n",
       "    <tr>\n",
       "      <th>2</th>\n",
       "      <td>80</td>\n",
       "      <td>air</td>\n",
       "    </tr>\n",
       "    <tr>\n",
       "      <th>3</th>\n",
       "      <td>90</td>\n",
       "      <td>svn</td>\n",
       "    </tr>\n",
       "    <tr>\n",
       "      <th>4</th>\n",
       "      <td>90</td>\n",
       "      <td>tortoisesvn</td>\n",
       "    </tr>\n",
       "  </tbody>\n",
       "</table>\n",
       "</div>"
      ],
      "text/plain": [
       "   Id             Tag\n",
       "0  80            flex\n",
       "1  80  actionscript-3\n",
       "2  80             air\n",
       "3  90             svn\n",
       "4  90     tortoisesvn"
      ]
     },
     "execution_count": 315,
     "metadata": {},
     "output_type": "execute_result"
    }
   ],
   "source": [
    "tags.head(5)"
   ]
  },
  {
   "cell_type": "code",
   "execution_count": 316,
   "metadata": {
    "_uuid": "ab191660e879734a6c26d1c1f2afd0e1218a50fc",
    "execution": {
     "iopub.execute_input": "2022-11-27T14:18:13.932686Z",
     "iopub.status.busy": "2022-11-27T14:18:13.932294Z",
     "iopub.status.idle": "2022-11-27T14:18:14.435586Z",
     "shell.execute_reply": "2022-11-27T14:18:14.434438Z",
     "shell.execute_reply.started": "2022-11-27T14:18:13.932617Z"
    }
   },
   "outputs": [
    {
     "name": "stdout",
     "output_type": "stream",
     "text": [
      "<class 'pandas.core.frame.DataFrame'>\n",
      "RangeIndex: 1264216 entries, 0 to 1264215\n",
      "Data columns (total 7 columns):\n",
      " #   Column        Non-Null Count    Dtype  \n",
      "---  ------        --------------    -----  \n",
      " 0   Id            1264216 non-null  int64  \n",
      " 1   OwnerUserId   1249762 non-null  float64\n",
      " 2   CreationDate  1264216 non-null  object \n",
      " 3   ClosedDate    55959 non-null    object \n",
      " 4   Score         1264216 non-null  int64  \n",
      " 5   Title         1264216 non-null  object \n",
      " 6   Body          1264216 non-null  object \n",
      "dtypes: float64(1), int64(2), object(4)\n",
      "memory usage: 67.5+ MB\n"
     ]
    }
   ],
   "source": [
    "df.info()"
   ]
  },
  {
   "cell_type": "code",
   "execution_count": 317,
   "metadata": {
    "_uuid": "b71d45e2c86152d95f22679f01d8f855b042a62e",
    "execution": {
     "iopub.execute_input": "2022-11-27T14:18:14.437856Z",
     "iopub.status.busy": "2022-11-27T14:18:14.437491Z",
     "iopub.status.idle": "2022-11-27T14:18:14.445807Z",
     "shell.execute_reply": "2022-11-27T14:18:14.444788Z",
     "shell.execute_reply.started": "2022-11-27T14:18:14.437780Z"
    }
   },
   "outputs": [
    {
     "name": "stdout",
     "output_type": "stream",
     "text": [
      "<class 'pandas.core.frame.DataFrame'>\n",
      "RangeIndex: 3750994 entries, 0 to 3750993\n",
      "Data columns (total 2 columns):\n",
      " #   Column  Dtype \n",
      "---  ------  ----- \n",
      " 0   Id      int64 \n",
      " 1   Tag     object\n",
      "dtypes: int64(1), object(1)\n",
      "memory usage: 57.2+ MB\n"
     ]
    }
   ],
   "source": [
    "tags.info()"
   ]
  },
  {
   "cell_type": "markdown",
   "metadata": {
    "_uuid": "ec6a03e07edd3ce3de1f20f073bdf18ffca87f4c"
   },
   "source": [
    "First, what I want to do is to merge both dataframes. In order to do that, I'll have to group tags by the id of the post since a post can have multiple tags. I'll just use the groupeby function and then merge the dataframes on the id. "
   ]
  },
  {
   "cell_type": "code",
   "execution_count": 318,
   "metadata": {
    "_uuid": "933761c8b2bdb668e0bca3c9ea9cab36dd1a4391",
    "execution": {
     "iopub.execute_input": "2022-11-27T14:18:14.448323Z",
     "iopub.status.busy": "2022-11-27T14:18:14.447865Z",
     "iopub.status.idle": "2022-11-27T14:18:14.781338Z",
     "shell.execute_reply": "2022-11-27T14:18:14.780562Z",
     "shell.execute_reply.started": "2022-11-27T14:18:14.448244Z"
    }
   },
   "outputs": [],
   "source": [
    "tags['Tag'] = tags['Tag'].astype(str)"
   ]
  },
  {
   "cell_type": "code",
   "execution_count": 319,
   "metadata": {
    "_kg_hide-output": true,
    "_uuid": "267d7c8f01a3b427ab139d689ce5d13ab8820913",
    "execution": {
     "iopub.execute_input": "2022-11-27T14:18:14.783632Z",
     "iopub.status.busy": "2022-11-27T14:18:14.783252Z",
     "iopub.status.idle": "2022-11-27T14:20:05.858481Z",
     "shell.execute_reply": "2022-11-27T14:20:05.857214Z",
     "shell.execute_reply.started": "2022-11-27T14:18:14.783555Z"
    }
   },
   "outputs": [],
   "source": [
    "grouped_tags = tags.groupby(\"Id\")['Tag'].apply(lambda tags: ' '.join(tags))"
   ]
  },
  {
   "cell_type": "code",
   "execution_count": 320,
   "metadata": {
    "_uuid": "d4096130e47ec904f9bbe27822d1ddf403a675dc",
    "execution": {
     "iopub.execute_input": "2022-11-27T14:20:05.860462Z",
     "iopub.status.busy": "2022-11-27T14:20:05.860167Z",
     "iopub.status.idle": "2022-11-27T14:20:05.867865Z",
     "shell.execute_reply": "2022-11-27T14:20:05.866910Z",
     "shell.execute_reply.started": "2022-11-27T14:20:05.860415Z"
    }
   },
   "outputs": [
    {
     "data": {
      "text/plain": [
       "Id\n",
       "80                            flex actionscript-3 air\n",
       "90       svn tortoisesvn branch branching-and-merging\n",
       "120                               sql asp.net sitemap\n",
       "180    algorithm language-agnostic colors color-space\n",
       "260           c# .net scripting compiler-construction\n",
       "Name: Tag, dtype: object"
      ]
     },
     "execution_count": 320,
     "metadata": {},
     "output_type": "execute_result"
    }
   ],
   "source": [
    "grouped_tags.head(5)"
   ]
  },
  {
   "cell_type": "code",
   "execution_count": 321,
   "metadata": {
    "_kg_hide-output": true,
    "_uuid": "a9ecae8a6445c671d9c0a1b207df8b530bae70ab",
    "execution": {
     "iopub.execute_input": "2022-11-27T14:20:05.869831Z",
     "iopub.status.busy": "2022-11-27T14:20:05.869559Z",
     "iopub.status.idle": "2022-11-27T14:20:05.943234Z",
     "shell.execute_reply": "2022-11-27T14:20:05.942285Z",
     "shell.execute_reply.started": "2022-11-27T14:20:05.869777Z"
    }
   },
   "outputs": [
    {
     "data": {
      "text/html": [
       "<div>\n",
       "<style scoped>\n",
       "    .dataframe tbody tr th:only-of-type {\n",
       "        vertical-align: middle;\n",
       "    }\n",
       "\n",
       "    .dataframe tbody tr th {\n",
       "        vertical-align: top;\n",
       "    }\n",
       "\n",
       "    .dataframe thead th {\n",
       "        text-align: right;\n",
       "    }\n",
       "</style>\n",
       "<table border=\"1\" class=\"dataframe\">\n",
       "  <thead>\n",
       "    <tr style=\"text-align: right;\">\n",
       "      <th></th>\n",
       "      <th>Id</th>\n",
       "      <th>Tag</th>\n",
       "    </tr>\n",
       "  </thead>\n",
       "  <tbody>\n",
       "    <tr>\n",
       "      <th>0</th>\n",
       "      <td>80</td>\n",
       "      <td>flex actionscript-3 air</td>\n",
       "    </tr>\n",
       "    <tr>\n",
       "      <th>1</th>\n",
       "      <td>90</td>\n",
       "      <td>svn tortoisesvn branch branching-and-merging</td>\n",
       "    </tr>\n",
       "    <tr>\n",
       "      <th>2</th>\n",
       "      <td>120</td>\n",
       "      <td>sql asp.net sitemap</td>\n",
       "    </tr>\n",
       "    <tr>\n",
       "      <th>3</th>\n",
       "      <td>180</td>\n",
       "      <td>algorithm language-agnostic colors color-space</td>\n",
       "    </tr>\n",
       "    <tr>\n",
       "      <th>4</th>\n",
       "      <td>260</td>\n",
       "      <td>c# .net scripting compiler-construction</td>\n",
       "    </tr>\n",
       "    <tr>\n",
       "      <th>...</th>\n",
       "      <td>...</td>\n",
       "      <td>...</td>\n",
       "    </tr>\n",
       "    <tr>\n",
       "      <th>1264211</th>\n",
       "      <td>40143210</td>\n",
       "      <td>php .htaccess</td>\n",
       "    </tr>\n",
       "    <tr>\n",
       "      <th>1264212</th>\n",
       "      <td>40143300</td>\n",
       "      <td>google-bigquery</td>\n",
       "    </tr>\n",
       "    <tr>\n",
       "      <th>1264213</th>\n",
       "      <td>40143340</td>\n",
       "      <td>android android-studio</td>\n",
       "    </tr>\n",
       "    <tr>\n",
       "      <th>1264214</th>\n",
       "      <td>40143360</td>\n",
       "      <td>javascript vue.js</td>\n",
       "    </tr>\n",
       "    <tr>\n",
       "      <th>1264215</th>\n",
       "      <td>40143380</td>\n",
       "      <td>npm mocha babel</td>\n",
       "    </tr>\n",
       "  </tbody>\n",
       "</table>\n",
       "<p>1264216 rows × 2 columns</p>\n",
       "</div>"
      ],
      "text/plain": [
       "               Id                                             Tag\n",
       "0              80                         flex actionscript-3 air\n",
       "1              90    svn tortoisesvn branch branching-and-merging\n",
       "2             120                             sql asp.net sitemap\n",
       "3             180  algorithm language-agnostic colors color-space\n",
       "4             260         c# .net scripting compiler-construction\n",
       "...           ...                                             ...\n",
       "1264211  40143210                                   php .htaccess\n",
       "1264212  40143300                                 google-bigquery\n",
       "1264213  40143340                          android android-studio\n",
       "1264214  40143360                               javascript vue.js\n",
       "1264215  40143380                                 npm mocha babel\n",
       "\n",
       "[1264216 rows x 2 columns]"
      ]
     },
     "execution_count": 321,
     "metadata": {},
     "output_type": "execute_result"
    }
   ],
   "source": [
    "grouped_tags.reset_index()"
   ]
  },
  {
   "cell_type": "code",
   "execution_count": 322,
   "metadata": {
    "_uuid": "8da81a33552cd273c80e159e0c1cc8dddc98399c",
    "execution": {
     "iopub.execute_input": "2022-11-27T14:20:05.945415Z",
     "iopub.status.busy": "2022-11-27T14:20:05.944858Z",
     "iopub.status.idle": "2022-11-27T14:20:05.968609Z",
     "shell.execute_reply": "2022-11-27T14:20:05.967624Z",
     "shell.execute_reply.started": "2022-11-27T14:20:05.945156Z"
    }
   },
   "outputs": [],
   "source": [
    "grouped_tags_final = pd.DataFrame({'Id':grouped_tags.index, 'Tags':grouped_tags.values})"
   ]
  },
  {
   "cell_type": "code",
   "execution_count": 323,
   "metadata": {
    "_uuid": "9968760c364a005b7de54bd908cfc612fc9defe8",
    "execution": {
     "iopub.execute_input": "2022-11-27T14:20:05.970640Z",
     "iopub.status.busy": "2022-11-27T14:20:05.970172Z",
     "iopub.status.idle": "2022-11-27T14:20:05.985672Z",
     "shell.execute_reply": "2022-11-27T14:20:05.984574Z",
     "shell.execute_reply.started": "2022-11-27T14:20:05.970455Z"
    }
   },
   "outputs": [
    {
     "data": {
      "text/html": [
       "<div>\n",
       "<style scoped>\n",
       "    .dataframe tbody tr th:only-of-type {\n",
       "        vertical-align: middle;\n",
       "    }\n",
       "\n",
       "    .dataframe tbody tr th {\n",
       "        vertical-align: top;\n",
       "    }\n",
       "\n",
       "    .dataframe thead th {\n",
       "        text-align: right;\n",
       "    }\n",
       "</style>\n",
       "<table border=\"1\" class=\"dataframe\">\n",
       "  <thead>\n",
       "    <tr style=\"text-align: right;\">\n",
       "      <th></th>\n",
       "      <th>Id</th>\n",
       "      <th>Tags</th>\n",
       "    </tr>\n",
       "  </thead>\n",
       "  <tbody>\n",
       "    <tr>\n",
       "      <th>0</th>\n",
       "      <td>80</td>\n",
       "      <td>flex actionscript-3 air</td>\n",
       "    </tr>\n",
       "    <tr>\n",
       "      <th>1</th>\n",
       "      <td>90</td>\n",
       "      <td>svn tortoisesvn branch branching-and-merging</td>\n",
       "    </tr>\n",
       "    <tr>\n",
       "      <th>2</th>\n",
       "      <td>120</td>\n",
       "      <td>sql asp.net sitemap</td>\n",
       "    </tr>\n",
       "    <tr>\n",
       "      <th>3</th>\n",
       "      <td>180</td>\n",
       "      <td>algorithm language-agnostic colors color-space</td>\n",
       "    </tr>\n",
       "    <tr>\n",
       "      <th>4</th>\n",
       "      <td>260</td>\n",
       "      <td>c# .net scripting compiler-construction</td>\n",
       "    </tr>\n",
       "  </tbody>\n",
       "</table>\n",
       "</div>"
      ],
      "text/plain": [
       "    Id                                            Tags\n",
       "0   80                         flex actionscript-3 air\n",
       "1   90    svn tortoisesvn branch branching-and-merging\n",
       "2  120                             sql asp.net sitemap\n",
       "3  180  algorithm language-agnostic colors color-space\n",
       "4  260         c# .net scripting compiler-construction"
      ]
     },
     "execution_count": 323,
     "metadata": {},
     "output_type": "execute_result"
    }
   ],
   "source": [
    "grouped_tags_final.head(5)"
   ]
  },
  {
   "cell_type": "code",
   "execution_count": 324,
   "metadata": {
    "_uuid": "2612dea031562d420f8dac14801d167721d2bcc9",
    "execution": {
     "iopub.execute_input": "2022-11-27T14:20:05.987874Z",
     "iopub.status.busy": "2022-11-27T14:20:05.987493Z",
     "iopub.status.idle": "2022-11-27T14:20:06.104926Z",
     "shell.execute_reply": "2022-11-27T14:20:06.103977Z",
     "shell.execute_reply.started": "2022-11-27T14:20:05.987789Z"
    }
   },
   "outputs": [],
   "source": [
    "df.drop(columns=['OwnerUserId', 'CreationDate', 'ClosedDate'], inplace=True)"
   ]
  },
  {
   "cell_type": "code",
   "execution_count": 325,
   "metadata": {
    "_uuid": "bd794a28df6e19818c754702ed5f3745262d866f",
    "execution": {
     "iopub.execute_input": "2022-11-27T14:20:06.107006Z",
     "iopub.status.busy": "2022-11-27T14:20:06.106600Z",
     "iopub.status.idle": "2022-11-27T14:20:06.782666Z",
     "shell.execute_reply": "2022-11-27T14:20:06.781742Z",
     "shell.execute_reply.started": "2022-11-27T14:20:06.106928Z"
    }
   },
   "outputs": [],
   "source": [
    "df = df.merge(grouped_tags_final, on='Id')"
   ]
  },
  {
   "cell_type": "code",
   "execution_count": 326,
   "metadata": {
    "_uuid": "132c4501747d2832eaf8d95f5d9cb3acaadc97f4",
    "execution": {
     "iopub.execute_input": "2022-11-27T14:20:06.784766Z",
     "iopub.status.busy": "2022-11-27T14:20:06.784412Z",
     "iopub.status.idle": "2022-11-27T14:20:06.809598Z",
     "shell.execute_reply": "2022-11-27T14:20:06.808702Z",
     "shell.execute_reply.started": "2022-11-27T14:20:06.784685Z"
    },
    "scrolled": true
   },
   "outputs": [
    {
     "data": {
      "text/html": [
       "<div>\n",
       "<style scoped>\n",
       "    .dataframe tbody tr th:only-of-type {\n",
       "        vertical-align: middle;\n",
       "    }\n",
       "\n",
       "    .dataframe tbody tr th {\n",
       "        vertical-align: top;\n",
       "    }\n",
       "\n",
       "    .dataframe thead th {\n",
       "        text-align: right;\n",
       "    }\n",
       "</style>\n",
       "<table border=\"1\" class=\"dataframe\">\n",
       "  <thead>\n",
       "    <tr style=\"text-align: right;\">\n",
       "      <th></th>\n",
       "      <th>Id</th>\n",
       "      <th>Score</th>\n",
       "      <th>Title</th>\n",
       "      <th>Body</th>\n",
       "      <th>Tags</th>\n",
       "    </tr>\n",
       "  </thead>\n",
       "  <tbody>\n",
       "    <tr>\n",
       "      <th>0</th>\n",
       "      <td>80</td>\n",
       "      <td>26</td>\n",
       "      <td>SQLStatement.execute() - multiple queries in o...</td>\n",
       "      <td>&lt;p&gt;I've written a database generation script i...</td>\n",
       "      <td>flex actionscript-3 air</td>\n",
       "    </tr>\n",
       "    <tr>\n",
       "      <th>1</th>\n",
       "      <td>90</td>\n",
       "      <td>144</td>\n",
       "      <td>Good branching and merging tutorials for Torto...</td>\n",
       "      <td>&lt;p&gt;Are there any really good tutorials explain...</td>\n",
       "      <td>svn tortoisesvn branch branching-and-merging</td>\n",
       "    </tr>\n",
       "    <tr>\n",
       "      <th>2</th>\n",
       "      <td>120</td>\n",
       "      <td>21</td>\n",
       "      <td>ASP.NET Site Maps</td>\n",
       "      <td>&lt;p&gt;Has anyone got experience creating &lt;strong&gt;...</td>\n",
       "      <td>sql asp.net sitemap</td>\n",
       "    </tr>\n",
       "    <tr>\n",
       "      <th>3</th>\n",
       "      <td>180</td>\n",
       "      <td>53</td>\n",
       "      <td>Function for creating color wheels</td>\n",
       "      <td>&lt;p&gt;This is something I've pseudo-solved many t...</td>\n",
       "      <td>algorithm language-agnostic colors color-space</td>\n",
       "    </tr>\n",
       "    <tr>\n",
       "      <th>4</th>\n",
       "      <td>260</td>\n",
       "      <td>49</td>\n",
       "      <td>Adding scripting functionality to .NET applica...</td>\n",
       "      <td>&lt;p&gt;I have a little game written in C#. It uses...</td>\n",
       "      <td>c# .net scripting compiler-construction</td>\n",
       "    </tr>\n",
       "  </tbody>\n",
       "</table>\n",
       "</div>"
      ],
      "text/plain": [
       "    Id  Score                                              Title  \\\n",
       "0   80     26  SQLStatement.execute() - multiple queries in o...   \n",
       "1   90    144  Good branching and merging tutorials for Torto...   \n",
       "2  120     21                                  ASP.NET Site Maps   \n",
       "3  180     53                 Function for creating color wheels   \n",
       "4  260     49  Adding scripting functionality to .NET applica...   \n",
       "\n",
       "                                                Body  \\\n",
       "0  <p>I've written a database generation script i...   \n",
       "1  <p>Are there any really good tutorials explain...   \n",
       "2  <p>Has anyone got experience creating <strong>...   \n",
       "3  <p>This is something I've pseudo-solved many t...   \n",
       "4  <p>I have a little game written in C#. It uses...   \n",
       "\n",
       "                                             Tags  \n",
       "0                         flex actionscript-3 air  \n",
       "1    svn tortoisesvn branch branching-and-merging  \n",
       "2                             sql asp.net sitemap  \n",
       "3  algorithm language-agnostic colors color-space  \n",
       "4         c# .net scripting compiler-construction  "
      ]
     },
     "execution_count": 326,
     "metadata": {},
     "output_type": "execute_result"
    }
   ],
   "source": [
    "df.head(5)"
   ]
  },
  {
   "cell_type": "markdown",
   "metadata": {
    "_uuid": "df4a7b2e88af524f4bd778c223d580de76c57cf7"
   },
   "source": [
    "Now, I'll take only quesions witha score greater than 5. I'm doing that for 2 reasons:\n",
    "* 1- I'll require less computational resources from kaggle.\n",
    "* 2- The posts will probably be with a better quality and will be better tagged since they have lots of upvotes. \n"
   ]
  },
  {
   "cell_type": "code",
   "execution_count": 327,
   "metadata": {
    "_uuid": "ecebe90606c70e84e4e87e1661e49a11c37e529f",
    "execution": {
     "iopub.execute_input": "2022-11-27T14:20:06.811244Z",
     "iopub.status.busy": "2022-11-27T14:20:06.810940Z",
     "iopub.status.idle": "2022-11-27T14:20:07.063114Z",
     "shell.execute_reply": "2022-11-27T14:20:07.061897Z",
     "shell.execute_reply.started": "2022-11-27T14:20:06.811182Z"
    }
   },
   "outputs": [],
   "source": [
    "new_df = df[df['Score']>5]"
   ]
  },
  {
   "cell_type": "code",
   "execution_count": 328,
   "metadata": {},
   "outputs": [],
   "source": [
    "test_df = df[6000:6100]"
   ]
  },
  {
   "cell_type": "code",
   "execution_count": 329,
   "metadata": {},
   "outputs": [
    {
     "data": {
      "text/html": [
       "<div>\n",
       "<style scoped>\n",
       "    .dataframe tbody tr th:only-of-type {\n",
       "        vertical-align: middle;\n",
       "    }\n",
       "\n",
       "    .dataframe tbody tr th {\n",
       "        vertical-align: top;\n",
       "    }\n",
       "\n",
       "    .dataframe thead th {\n",
       "        text-align: right;\n",
       "    }\n",
       "</style>\n",
       "<table border=\"1\" class=\"dataframe\">\n",
       "  <thead>\n",
       "    <tr style=\"text-align: right;\">\n",
       "      <th></th>\n",
       "      <th>Id</th>\n",
       "      <th>Score</th>\n",
       "      <th>Title</th>\n",
       "      <th>Body</th>\n",
       "      <th>Tags</th>\n",
       "    </tr>\n",
       "  </thead>\n",
       "  <tbody>\n",
       "    <tr>\n",
       "      <th>6000</th>\n",
       "      <td>415240</td>\n",
       "      <td>3</td>\n",
       "      <td>.NET Class Refactoring Dilemma</td>\n",
       "      <td>&lt;p&gt;So I'm refactoring a legacy codebase I've i...</td>\n",
       "      <td>c# .net oop refactoring</td>\n",
       "    </tr>\n",
       "    <tr>\n",
       "      <th>6001</th>\n",
       "      <td>415260</td>\n",
       "      <td>20</td>\n",
       "      <td>How do you find out what users really want?</td>\n",
       "      <td>&lt;p&gt;I've read somewhere (I forget the source, s...</td>\n",
       "      <td>user-experience</td>\n",
       "    </tr>\n",
       "    <tr>\n",
       "      <th>6002</th>\n",
       "      <td>415310</td>\n",
       "      <td>2</td>\n",
       "      <td>Flash security: problem loading Flash 8 AS2 mo...</td>\n",
       "      <td>&lt;p&gt;I have an old program written in Actionscri...</td>\n",
       "      <td>flash security loading</td>\n",
       "    </tr>\n",
       "    <tr>\n",
       "      <th>6003</th>\n",
       "      <td>415520</td>\n",
       "      <td>7</td>\n",
       "      <td>How do I make Tomcat stop caching my servlet r...</td>\n",
       "      <td>&lt;p&gt;I'm learning Servlets programming, using Ap...</td>\n",
       "      <td>java tomcat servlets caching</td>\n",
       "    </tr>\n",
       "    <tr>\n",
       "      <th>6004</th>\n",
       "      <td>415550</td>\n",
       "      <td>11</td>\n",
       "      <td>prototype and jQuery peaceful co-existence?</td>\n",
       "      <td>&lt;p&gt;I know very little about JavaScript but des...</td>\n",
       "      <td>javascript jquery wordpress prototypejs</td>\n",
       "    </tr>\n",
       "  </tbody>\n",
       "</table>\n",
       "</div>"
      ],
      "text/plain": [
       "          Id  Score                                              Title  \\\n",
       "6000  415240      3                     .NET Class Refactoring Dilemma   \n",
       "6001  415260     20        How do you find out what users really want?   \n",
       "6002  415310      2  Flash security: problem loading Flash 8 AS2 mo...   \n",
       "6003  415520      7  How do I make Tomcat stop caching my servlet r...   \n",
       "6004  415550     11        prototype and jQuery peaceful co-existence?   \n",
       "\n",
       "                                                   Body  \\\n",
       "6000  <p>So I'm refactoring a legacy codebase I've i...   \n",
       "6001  <p>I've read somewhere (I forget the source, s...   \n",
       "6002  <p>I have an old program written in Actionscri...   \n",
       "6003  <p>I'm learning Servlets programming, using Ap...   \n",
       "6004  <p>I know very little about JavaScript but des...   \n",
       "\n",
       "                                         Tags  \n",
       "6000                  c# .net oop refactoring  \n",
       "6001                          user-experience  \n",
       "6002                   flash security loading  \n",
       "6003             java tomcat servlets caching  \n",
       "6004  javascript jquery wordpress prototypejs  "
      ]
     },
     "execution_count": 329,
     "metadata": {},
     "output_type": "execute_result"
    }
   ],
   "source": [
    "test_df.head()"
   ]
  },
  {
   "cell_type": "code",
   "execution_count": 330,
   "metadata": {},
   "outputs": [],
   "source": [
    "new_df = new_df.head(30000)"
   ]
  },
  {
   "cell_type": "markdown",
   "metadata": {
    "_uuid": "e462e56ec2d84a0f3810d53bee3715cb570907f1"
   },
   "source": [
    "**1.2 Cleaning Data**"
   ]
  },
  {
   "cell_type": "code",
   "execution_count": 331,
   "metadata": {
    "_uuid": "2f966f3733dfc5668fd20af7850302c8c2bbdbf7",
    "execution": {
     "iopub.execute_input": "2022-11-27T14:20:07.065217Z",
     "iopub.status.busy": "2022-11-27T14:20:07.064918Z",
     "iopub.status.idle": "2022-11-27T14:20:07.420747Z",
     "shell.execute_reply": "2022-11-27T14:20:07.419432Z",
     "shell.execute_reply.started": "2022-11-27T14:20:07.065155Z"
    }
   },
   "outputs": [
    {
     "data": {
      "text/plain": [
       "Text(0.5, 1.0, 'Ratio of missing values per columns')"
      ]
     },
     "execution_count": 331,
     "metadata": {},
     "output_type": "execute_result"
    },
    {
     "data": {
      "image/png": "[encoded data removed]",
      "text/plain": [
       "<Figure size 360x360 with 1 Axes>"
      ]
     },
     "metadata": {
      "needs_background": "light"
     },
     "output_type": "display_data"
    }
   ],
   "source": [
    "plt.figure(figsize=(5, 5))\n",
    "new_df.isnull().mean(axis=0).plot.barh()\n",
    "plt.title(\"Ratio of missing values per columns\")"
   ]
  },
  {
   "cell_type": "code",
   "execution_count": 332,
   "metadata": {
    "_uuid": "1550d62d082219a8c8564f8a95afb121d9096c67",
    "execution": {
     "iopub.execute_input": "2022-11-27T14:20:07.423670Z",
     "iopub.status.busy": "2022-11-27T14:20:07.422896Z",
     "iopub.status.idle": "2022-11-27T14:20:08.199307Z",
     "shell.execute_reply": "2022-11-27T14:20:08.198594Z",
     "shell.execute_reply.started": "2022-11-27T14:20:07.423576Z"
    },
    "scrolled": true
   },
   "outputs": [
    {
     "name": "stdout",
     "output_type": "stream",
     "text": [
      "Dupplicate entries: 0\n"
     ]
    }
   ],
   "source": [
    "print('Dupplicate entries: {}'.format(new_df.duplicated().sum()))\n",
    "new_df.drop_duplicates(inplace = True)"
   ]
  },
  {
   "cell_type": "code",
   "execution_count": 333,
   "metadata": {},
   "outputs": [],
   "source": [
    "test_df.drop_duplicates(inplace = True)"
   ]
  },
  {
   "cell_type": "code",
   "execution_count": 334,
   "metadata": {},
   "outputs": [
    {
     "name": "stdout",
     "output_type": "stream",
     "text": [
      "Dupplicate entries: 0\n"
     ]
    }
   ],
   "source": [
    "print('Dupplicate entries: {}'.format(test_df.duplicated().sum()))"
   ]
  },
  {
   "cell_type": "markdown",
   "metadata": {
    "_uuid": "097a6864ce893217365a3dca22bb68b442746740"
   },
   "source": [
    "This is a very good dataset since there are no missing valeus or dupplicate values. "
   ]
  },
  {
   "cell_type": "code",
   "execution_count": 335,
   "metadata": {
    "_uuid": "6ed21b85891cb57be8273aa41443e6c8198c0d0c",
    "execution": {
     "iopub.execute_input": "2022-11-27T14:20:08.201184Z",
     "iopub.status.busy": "2022-11-27T14:20:08.200641Z",
     "iopub.status.idle": "2022-11-27T14:20:08.300693Z",
     "shell.execute_reply": "2022-11-27T14:20:08.299611Z",
     "shell.execute_reply.started": "2022-11-27T14:20:08.201123Z"
    }
   },
   "outputs": [],
   "source": [
    "new_df.drop(columns=['Id', 'Score'], inplace=True)\n",
    "test_df.drop(columns=['Id', 'Score'], inplace=True)"
   ]
  },
  {
   "cell_type": "markdown",
   "metadata": {
    "_uuid": "4c6033e87a6ca08eeca49f64b8ca1bf6a9a2d11b"
   },
   "source": [
    "Now we only need 3 columns: Body, Title and Tags. "
   ]
  },
  {
   "cell_type": "markdown",
   "metadata": {
    "_uuid": "d3a6dc67414c2faf61fc32adf821d5d6c5a00e4e"
   },
   "source": [
    "**1.2.1 Tags**"
   ]
  },
  {
   "cell_type": "markdown",
   "metadata": {
    "_uuid": "7d52b54ca515eb7ef5a9545b9f722090abc4c683"
   },
   "source": [
    "Let's do some cleaning on the tags' column. Furthermore, I decided to keep the 100 most popular tags because I'll be easier to predict the right tag from 100 words than from 14,000 and because we want to keep macro tags and not be too specific since it's only a recommendation for a post, the user can add more specific tags himself. "
   ]
  },
  {
   "cell_type": "code",
   "execution_count": 336,
   "metadata": {
    "_uuid": "f52f8b1079382f88516dd1df91aeaebe6d4f1dc4",
    "execution": {
     "iopub.execute_input": "2022-11-27T14:20:08.302604Z",
     "iopub.status.busy": "2022-11-27T14:20:08.302230Z",
     "iopub.status.idle": "2022-11-27T14:20:08.324016Z",
     "shell.execute_reply": "2022-11-27T14:20:08.322635Z",
     "shell.execute_reply.started": "2022-11-27T14:20:08.302535Z"
    }
   },
   "outputs": [
    {
     "data": {
      "text/html": [
       "<div>\n",
       "<style scoped>\n",
       "    .dataframe tbody tr th:only-of-type {\n",
       "        vertical-align: middle;\n",
       "    }\n",
       "\n",
       "    .dataframe tbody tr th {\n",
       "        vertical-align: top;\n",
       "    }\n",
       "\n",
       "    .dataframe thead th {\n",
       "        text-align: right;\n",
       "    }\n",
       "</style>\n",
       "<table border=\"1\" class=\"dataframe\">\n",
       "  <thead>\n",
       "    <tr style=\"text-align: right;\">\n",
       "      <th></th>\n",
       "      <th>Title</th>\n",
       "      <th>Body</th>\n",
       "      <th>Tags</th>\n",
       "    </tr>\n",
       "  </thead>\n",
       "  <tbody>\n",
       "    <tr>\n",
       "      <th>0</th>\n",
       "      <td>SQLStatement.execute() - multiple queries in o...</td>\n",
       "      <td>&lt;p&gt;I've written a database generation script i...</td>\n",
       "      <td>flex actionscript-3 air</td>\n",
       "    </tr>\n",
       "    <tr>\n",
       "      <th>1</th>\n",
       "      <td>Good branching and merging tutorials for Torto...</td>\n",
       "      <td>&lt;p&gt;Are there any really good tutorials explain...</td>\n",
       "      <td>svn tortoisesvn branch branching-and-merging</td>\n",
       "    </tr>\n",
       "    <tr>\n",
       "      <th>2</th>\n",
       "      <td>ASP.NET Site Maps</td>\n",
       "      <td>&lt;p&gt;Has anyone got experience creating &lt;strong&gt;...</td>\n",
       "      <td>sql asp.net sitemap</td>\n",
       "    </tr>\n",
       "    <tr>\n",
       "      <th>3</th>\n",
       "      <td>Function for creating color wheels</td>\n",
       "      <td>&lt;p&gt;This is something I've pseudo-solved many t...</td>\n",
       "      <td>algorithm language-agnostic colors color-space</td>\n",
       "    </tr>\n",
       "    <tr>\n",
       "      <th>4</th>\n",
       "      <td>Adding scripting functionality to .NET applica...</td>\n",
       "      <td>&lt;p&gt;I have a little game written in C#. It uses...</td>\n",
       "      <td>c# .net scripting compiler-construction</td>\n",
       "    </tr>\n",
       "  </tbody>\n",
       "</table>\n",
       "</div>"
      ],
      "text/plain": [
       "                                               Title  \\\n",
       "0  SQLStatement.execute() - multiple queries in o...   \n",
       "1  Good branching and merging tutorials for Torto...   \n",
       "2                                  ASP.NET Site Maps   \n",
       "3                 Function for creating color wheels   \n",
       "4  Adding scripting functionality to .NET applica...   \n",
       "\n",
       "                                                Body  \\\n",
       "0  <p>I've written a database generation script i...   \n",
       "1  <p>Are there any really good tutorials explain...   \n",
       "2  <p>Has anyone got experience creating <strong>...   \n",
       "3  <p>This is something I've pseudo-solved many t...   \n",
       "4  <p>I have a little game written in C#. It uses...   \n",
       "\n",
       "                                             Tags  \n",
       "0                         flex actionscript-3 air  \n",
       "1    svn tortoisesvn branch branching-and-merging  \n",
       "2                             sql asp.net sitemap  \n",
       "3  algorithm language-agnostic colors color-space  \n",
       "4         c# .net scripting compiler-construction  "
      ]
     },
     "execution_count": 336,
     "metadata": {},
     "output_type": "execute_result"
    }
   ],
   "source": [
    "new_df.head()"
   ]
  },
  {
   "cell_type": "code",
   "execution_count": 337,
   "metadata": {},
   "outputs": [
    {
     "data": {
      "text/html": [
       "<div>\n",
       "<style scoped>\n",
       "    .dataframe tbody tr th:only-of-type {\n",
       "        vertical-align: middle;\n",
       "    }\n",
       "\n",
       "    .dataframe tbody tr th {\n",
       "        vertical-align: top;\n",
       "    }\n",
       "\n",
       "    .dataframe thead th {\n",
       "        text-align: right;\n",
       "    }\n",
       "</style>\n",
       "<table border=\"1\" class=\"dataframe\">\n",
       "  <thead>\n",
       "    <tr style=\"text-align: right;\">\n",
       "      <th></th>\n",
       "      <th>Title</th>\n",
       "      <th>Body</th>\n",
       "      <th>Tags</th>\n",
       "    </tr>\n",
       "  </thead>\n",
       "  <tbody>\n",
       "    <tr>\n",
       "      <th>6000</th>\n",
       "      <td>.NET Class Refactoring Dilemma</td>\n",
       "      <td>&lt;p&gt;So I'm refactoring a legacy codebase I've i...</td>\n",
       "      <td>c# .net oop refactoring</td>\n",
       "    </tr>\n",
       "    <tr>\n",
       "      <th>6001</th>\n",
       "      <td>How do you find out what users really want?</td>\n",
       "      <td>&lt;p&gt;I've read somewhere (I forget the source, s...</td>\n",
       "      <td>user-experience</td>\n",
       "    </tr>\n",
       "    <tr>\n",
       "      <th>6002</th>\n",
       "      <td>Flash security: problem loading Flash 8 AS2 mo...</td>\n",
       "      <td>&lt;p&gt;I have an old program written in Actionscri...</td>\n",
       "      <td>flash security loading</td>\n",
       "    </tr>\n",
       "    <tr>\n",
       "      <th>6003</th>\n",
       "      <td>How do I make Tomcat stop caching my servlet r...</td>\n",
       "      <td>&lt;p&gt;I'm learning Servlets programming, using Ap...</td>\n",
       "      <td>java tomcat servlets caching</td>\n",
       "    </tr>\n",
       "    <tr>\n",
       "      <th>6004</th>\n",
       "      <td>prototype and jQuery peaceful co-existence?</td>\n",
       "      <td>&lt;p&gt;I know very little about JavaScript but des...</td>\n",
       "      <td>javascript jquery wordpress prototypejs</td>\n",
       "    </tr>\n",
       "  </tbody>\n",
       "</table>\n",
       "</div>"
      ],
      "text/plain": [
       "                                                  Title  \\\n",
       "6000                     .NET Class Refactoring Dilemma   \n",
       "6001        How do you find out what users really want?   \n",
       "6002  Flash security: problem loading Flash 8 AS2 mo...   \n",
       "6003  How do I make Tomcat stop caching my servlet r...   \n",
       "6004        prototype and jQuery peaceful co-existence?   \n",
       "\n",
       "                                                   Body  \\\n",
       "6000  <p>So I'm refactoring a legacy codebase I've i...   \n",
       "6001  <p>I've read somewhere (I forget the source, s...   \n",
       "6002  <p>I have an old program written in Actionscri...   \n",
       "6003  <p>I'm learning Servlets programming, using Ap...   \n",
       "6004  <p>I know very little about JavaScript but des...   \n",
       "\n",
       "                                         Tags  \n",
       "6000                  c# .net oop refactoring  \n",
       "6001                          user-experience  \n",
       "6002                   flash security loading  \n",
       "6003             java tomcat servlets caching  \n",
       "6004  javascript jquery wordpress prototypejs  "
      ]
     },
     "execution_count": 337,
     "metadata": {},
     "output_type": "execute_result"
    }
   ],
   "source": [
    "test_df.head()"
   ]
  },
  {
   "cell_type": "code",
   "execution_count": 338,
   "metadata": {
    "_kg_hide-output": true,
    "_uuid": "d112c6cca7ac7b8fecfafdecfe3c75820a8b6f8c",
    "execution": {
     "iopub.execute_input": "2022-11-27T14:20:08.326253Z",
     "iopub.status.busy": "2022-11-27T14:20:08.325913Z",
     "iopub.status.idle": "2022-11-27T14:20:08.496487Z",
     "shell.execute_reply": "2022-11-27T14:20:08.495635Z",
     "shell.execute_reply.started": "2022-11-27T14:20:08.326169Z"
    }
   },
   "outputs": [],
   "source": [
    "new_df['Tags'] = new_df['Tags'].apply(lambda x: x.split())"
   ]
  },
  {
   "cell_type": "code",
   "execution_count": 339,
   "metadata": {},
   "outputs": [],
   "source": [
    "test_df['Tags'] = test_df['Tags'].apply(lambda x: x.split())"
   ]
  },
  {
   "cell_type": "code",
   "execution_count": 340,
   "metadata": {
    "_uuid": "84505cde455a6d528b08e72688caa6c092893388",
    "execution": {
     "iopub.execute_input": "2022-11-27T14:20:08.498145Z",
     "iopub.status.busy": "2022-11-27T14:20:08.497698Z",
     "iopub.status.idle": "2022-11-27T14:20:08.519567Z",
     "shell.execute_reply": "2022-11-27T14:20:08.518555Z",
     "shell.execute_reply.started": "2022-11-27T14:20:08.498077Z"
    }
   },
   "outputs": [],
   "source": [
    "all_tags = [item for sublist in new_df['Tags'].values for item in sublist]"
   ]
  },
  {
   "cell_type": "code",
   "execution_count": 341,
   "metadata": {},
   "outputs": [],
   "source": [
    "all_tags_test = [item for sublist in test_df['Tags'].values for item in sublist]"
   ]
  },
  {
   "cell_type": "code",
   "execution_count": 342,
   "metadata": {
    "_uuid": "79be7667451d41ac7cd9ef52b7edae19a8c9e846",
    "execution": {
     "iopub.execute_input": "2022-11-27T14:20:08.521302Z",
     "iopub.status.busy": "2022-11-27T14:20:08.520871Z",
     "iopub.status.idle": "2022-11-27T14:20:08.534585Z",
     "shell.execute_reply": "2022-11-27T14:20:08.533623Z",
     "shell.execute_reply.started": "2022-11-27T14:20:08.521245Z"
    }
   },
   "outputs": [
    {
     "data": {
      "text/plain": [
       "89751"
      ]
     },
     "execution_count": 342,
     "metadata": {},
     "output_type": "execute_result"
    }
   ],
   "source": [
    "len(all_tags)"
   ]
  },
  {
   "cell_type": "code",
   "execution_count": 343,
   "metadata": {},
   "outputs": [
    {
     "data": {
      "text/plain": [
       "293"
      ]
     },
     "execution_count": 343,
     "metadata": {},
     "output_type": "execute_result"
    }
   ],
   "source": [
    "len(all_tags_test)"
   ]
  },
  {
   "cell_type": "code",
   "execution_count": 344,
   "metadata": {
    "_uuid": "0a7e3c76664f2bbcbab52d1ecbf445e8451d877d",
    "execution": {
     "iopub.execute_input": "2022-11-27T14:20:08.536500Z",
     "iopub.status.busy": "2022-11-27T14:20:08.536093Z",
     "iopub.status.idle": "2022-11-27T14:20:08.571373Z",
     "shell.execute_reply": "2022-11-27T14:20:08.570409Z",
     "shell.execute_reply.started": "2022-11-27T14:20:08.536337Z"
    }
   },
   "outputs": [
    {
     "data": {
      "text/plain": [
       "8514"
      ]
     },
     "execution_count": 344,
     "metadata": {},
     "output_type": "execute_result"
    }
   ],
   "source": [
    "my_set = set(all_tags)\n",
    "unique_tags = list(my_set)\n",
    "len(unique_tags)"
   ]
  },
  {
   "cell_type": "code",
   "execution_count": 345,
   "metadata": {
    "_uuid": "56cecaeb6a313c81202a08fbcca65e33da95b3be",
    "execution": {
     "iopub.execute_input": "2022-11-27T14:20:08.573401Z",
     "iopub.status.busy": "2022-11-27T14:20:08.572852Z",
     "iopub.status.idle": "2022-11-27T14:20:08.828325Z",
     "shell.execute_reply": "2022-11-27T14:20:08.827571Z",
     "shell.execute_reply.started": "2022-11-27T14:20:08.573327Z"
    }
   },
   "outputs": [],
   "source": [
    "flat_list = [item for sublist in new_df['Tags'].values for item in sublist]\n",
    "\n",
    "keywords = nltk.FreqDist(flat_list)\n",
    "\n",
    "keywords = nltk.FreqDist(keywords)\n",
    "\n",
    "frequencies_words = keywords.most_common(100)\n",
    "tags_features = [word[0] for word in frequencies_words]"
   ]
  },
  {
   "cell_type": "code",
   "execution_count": 346,
   "metadata": {
    "_uuid": "a97a5e5d2e1031394382558d4dc3b54530400005",
    "execution": {
     "iopub.execute_input": "2022-11-27T14:20:08.830069Z",
     "iopub.status.busy": "2022-11-27T14:20:08.829540Z",
     "iopub.status.idle": "2022-11-27T14:20:08.838531Z",
     "shell.execute_reply": "2022-11-27T14:20:08.837407Z",
     "shell.execute_reply.started": "2022-11-27T14:20:08.830009Z"
    }
   },
   "outputs": [
    {
     "data": {
      "text/plain": [
       "['c#',\n",
       " 'java',\n",
       " 'c++',\n",
       " 'javascript',\n",
       " 'python',\n",
       " '.net',\n",
       " 'php',\n",
       " 'android',\n",
       " 'jquery',\n",
       " 'iphone',\n",
       " 'c',\n",
       " 'html',\n",
       " 'sql',\n",
       " 'asp.net',\n",
       " 'ruby-on-rails',\n",
       " 'objective-c',\n",
       " 'css',\n",
       " 'mysql',\n",
       " 'ruby',\n",
       " 'sql-server',\n",
       " 'wpf',\n",
       " 'asp.net-mvc',\n",
       " 'string',\n",
       " 'git',\n",
       " 'linux',\n",
       " 'windows',\n",
       " 'performance',\n",
       " 'django',\n",
       " 'algorithm',\n",
       " 'eclipse',\n",
       " 'database',\n",
       " 'visual-studio',\n",
       " 'regex',\n",
       " 'multithreading',\n",
       " 'ios',\n",
       " 'arrays',\n",
       " 'xml',\n",
       " 'unit-testing',\n",
       " 'cocoa-touch',\n",
       " 'winforms',\n",
       " 'perl',\n",
       " 'ajax',\n",
       " 'osx',\n",
       " 'delphi',\n",
       " 'cocoa',\n",
       " 'linq',\n",
       " 'visual-studio-2010',\n",
       " 'scala',\n",
       " 'r',\n",
       " 'svn',\n",
       " 'bash',\n",
       " 'debugging',\n",
       " 'json',\n",
       " 'security',\n",
       " 'oop',\n",
       " 'xcode',\n",
       " 'tsql',\n",
       " 'ruby-on-rails-3',\n",
       " 'vim',\n",
       " 'haskell',\n",
       " 'math',\n",
       " 'spring',\n",
       " 'language-agnostic',\n",
       " 'user-interface',\n",
       " 'generics',\n",
       " 'oracle',\n",
       " 'exception',\n",
       " 'version-control',\n",
       " 'shell',\n",
       " 'html5',\n",
       " 'wcf',\n",
       " 'image',\n",
       " 'hibernate',\n",
       " 'emacs',\n",
       " 'http',\n",
       " 'vb.net',\n",
       " 'file',\n",
       " 'visual-studio-2008',\n",
       " 'entity-framework',\n",
       " 'design-patterns',\n",
       " 'list',\n",
       " 'asp.net-mvc-3',\n",
       " 'reflection',\n",
       " 'ipad',\n",
       " 'optimization',\n",
       " 'templates',\n",
       " 'datetime',\n",
       " 'function',\n",
       " 'web-services',\n",
       " 'testing',\n",
       " 'validation',\n",
       " 'gcc',\n",
       " 'sql-server-2005',\n",
       " 'sql-server-2008',\n",
       " 'qt',\n",
       " 'class',\n",
       " 'parsing',\n",
       " 'swing',\n",
       " 'date',\n",
       " 'types']"
      ]
     },
     "execution_count": 346,
     "metadata": {},
     "output_type": "execute_result"
    }
   ],
   "source": [
    "tags_features"
   ]
  },
  {
   "cell_type": "code",
   "execution_count": 347,
   "metadata": {
    "_uuid": "e4a1cb0882531f0de6aef354e468cd0711bbb432",
    "execution": {
     "iopub.execute_input": "2022-11-27T14:20:08.840725Z",
     "iopub.status.busy": "2022-11-27T14:20:08.840233Z",
     "iopub.status.idle": "2022-11-27T14:20:10.138092Z",
     "shell.execute_reply": "2022-11-27T14:20:10.134555Z",
     "shell.execute_reply.started": "2022-11-27T14:20:08.840648Z"
    }
   },
   "outputs": [
    {
     "data": {
      "image/png": "[encoded data removed]",
      "text/plain": [
       "<Figure size 1080x720 with 1 Axes>"
      ]
     },
     "metadata": {
      "needs_background": "light"
     },
     "output_type": "display_data"
    },
    {
     "data": {
      "text/plain": [
       "<AxesSubplot:xlabel='Samples', ylabel='Counts'>"
      ]
     },
     "execution_count": 347,
     "metadata": {},
     "output_type": "execute_result"
    }
   ],
   "source": [
    "fig, ax = plt.subplots(figsize=(15, 10))\n",
    "keywords.plot(100, cumulative=False)"
   ]
  },
  {
   "cell_type": "code",
   "execution_count": 348,
   "metadata": {
    "_uuid": "3dabce5e92dc9314e7042384add46fc2c31f3112",
    "execution": {
     "iopub.execute_input": "2022-11-27T14:20:10.140052Z",
     "iopub.status.busy": "2022-11-27T14:20:10.139757Z",
     "iopub.status.idle": "2022-11-27T14:20:10.145743Z",
     "shell.execute_reply": "2022-11-27T14:20:10.144582Z",
     "shell.execute_reply.started": "2022-11-27T14:20:10.140001Z"
    }
   },
   "outputs": [],
   "source": [
    "def most_common(tags):\n",
    "    tags_filtered = []\n",
    "    for i in range(0, len(tags)):\n",
    "        if tags[i] in tags_features:\n",
    "            tags_filtered.append(tags[i])\n",
    "    return tags_filtered"
   ]
  },
  {
   "cell_type": "code",
   "execution_count": 349,
   "metadata": {
    "_uuid": "e1b1f8eefaf9b94b5bffdbd295b5770fae7b2984",
    "execution": {
     "iopub.execute_input": "2022-11-27T14:20:10.147160Z",
     "iopub.status.busy": "2022-11-27T14:20:10.146862Z",
     "iopub.status.idle": "2022-11-27T14:20:10.706702Z",
     "shell.execute_reply": "2022-11-27T14:20:10.705667Z",
     "shell.execute_reply.started": "2022-11-27T14:20:10.147109Z"
    }
   },
   "outputs": [],
   "source": [
    "new_df['Tags'] = new_df['Tags'].apply(lambda x: most_common(x))\n",
    "new_df['Tags'] = new_df['Tags'].apply(lambda x: x if len(x)>0 else None)"
   ]
  },
  {
   "cell_type": "code",
   "execution_count": 350,
   "metadata": {
    "_uuid": "1f9ffd9e9e0dfe7c2e4c595e31559e2f5ec513f4",
    "execution": {
     "iopub.execute_input": "2022-11-27T14:37:09.053265Z",
     "iopub.status.busy": "2022-11-27T14:37:09.052464Z",
     "iopub.status.idle": "2022-11-27T14:37:09.262577Z",
     "shell.execute_reply": "2022-11-27T14:37:09.261724Z",
     "shell.execute_reply.started": "2022-11-27T14:37:09.053171Z"
    }
   },
   "outputs": [],
   "source": [
    "new_df.dropna(subset=['Tags'], inplace=True)"
   ]
  },
  {
   "cell_type": "code",
   "execution_count": 351,
   "metadata": {
    "_uuid": "608e36814e0b2befb41bb9dc6eca073edf48fbe4",
    "execution": {
     "iopub.execute_input": "2022-11-27T14:37:12.043370Z",
     "iopub.status.busy": "2022-11-27T14:37:12.042861Z",
     "iopub.status.idle": "2022-11-27T14:37:12.049199Z",
     "shell.execute_reply": "2022-11-27T14:37:12.048299Z",
     "shell.execute_reply.started": "2022-11-27T14:37:12.043322Z"
    }
   },
   "outputs": [
    {
     "data": {
      "text/plain": [
       "(26239, 3)"
      ]
     },
     "execution_count": 351,
     "metadata": {},
     "output_type": "execute_result"
    }
   ],
   "source": [
    "new_df.shape"
   ]
  },
  {
   "cell_type": "markdown",
   "metadata": {
    "_uuid": "8864db3bccbe04abb7656fa580fbbb87b0528c43"
   },
   "source": [
    "We are here loosing 10000 rows but the it's for the greater good. "
   ]
  },
  {
   "cell_type": "markdown",
   "metadata": {
    "_uuid": "0240dc179aeabfdd8bbd6638d0e1b3ae5cb56877"
   },
   "source": [
    "**1.2.2 Body**"
   ]
  },
  {
   "cell_type": "code",
   "execution_count": 352,
   "metadata": {
    "_uuid": "e1b8ccc185a38ec08ee74deecd749b187053e444",
    "execution": {
     "iopub.execute_input": "2022-11-27T14:37:17.779921Z",
     "iopub.status.busy": "2022-11-27T14:37:17.779520Z",
     "iopub.status.idle": "2022-11-27T14:37:18.697851Z",
     "shell.execute_reply": "2022-11-27T14:37:18.696625Z",
     "shell.execute_reply.started": "2022-11-27T14:37:17.779849Z"
    }
   },
   "outputs": [],
   "source": [
    "# Converting html to text in the body\n",
    "\n",
    "new_df['Body'] = new_df['Body'].apply(lambda x: BeautifulSoup(x).get_text()) "
   ]
  },
  {
   "cell_type": "code",
   "execution_count": 353,
   "metadata": {},
   "outputs": [],
   "source": [
    "test_df['Body'] = test_df['Body'].apply(lambda x: BeautifulSoup(x).get_text())"
   ]
  },
  {
   "cell_type": "code",
   "execution_count": 354,
   "metadata": {
    "_uuid": "b25cd0dd5fd7bc22eaa629bdabfa9ce882661f85",
    "execution": {
     "iopub.execute_input": "2022-11-27T14:37:24.942558Z",
     "iopub.status.busy": "2022-11-27T14:37:24.941898Z",
     "iopub.status.idle": "2022-11-27T14:37:24.949513Z",
     "shell.execute_reply": "2022-11-27T14:37:24.948163Z",
     "shell.execute_reply.started": "2022-11-27T14:37:24.942502Z"
    }
   },
   "outputs": [],
   "source": [
    "def clean_text(text):\n",
    "    text = text.lower()\n",
    "    text = re.sub(r\"what's\", \"what is \", text)\n",
    "    text = re.sub(r\"\\'s\", \" \", text)\n",
    "    text = re.sub(r\"\\'ve\", \" have \", text)\n",
    "    text = re.sub(r\"can't\", \"can not \", text)\n",
    "    text = re.sub(r\"n't\", \" not \", text)\n",
    "    text = re.sub(r\"i'm\", \"i am \", text)\n",
    "    text = re.sub(r\"\\'re\", \" are \", text)\n",
    "    text = re.sub(r\"\\'d\", \" would \", text)\n",
    "    text = re.sub(r\"\\'ll\", \" will \", text)\n",
    "    text = re.sub(r\"\\'scuse\", \" excuse \", text)\n",
    "    text = re.sub(r\"\\'\\n\", \" \", text)\n",
    "    text = re.sub(r\"\\'\\xa0\", \" \", text)\n",
    "    text = re.sub('\\s+', ' ', text)\n",
    "    text = text.strip(' ')\n",
    "    return text"
   ]
  },
  {
   "cell_type": "code",
   "execution_count": 355,
   "metadata": {
    "_uuid": "d39a9d9c3221288d7d72076070219cb861ad399e",
    "execution": {
     "iopub.execute_input": "2022-11-27T14:37:27.818427Z",
     "iopub.status.busy": "2022-11-27T14:37:27.817821Z",
     "iopub.status.idle": "2022-11-27T14:37:28.123594Z",
     "shell.execute_reply": "2022-11-27T14:37:28.122815Z",
     "shell.execute_reply.started": "2022-11-27T14:37:27.818374Z"
    }
   },
   "outputs": [],
   "source": [
    "new_df['Body'] = new_df['Body'].apply(lambda x: clean_text(x)) "
   ]
  },
  {
   "cell_type": "code",
   "execution_count": 356,
   "metadata": {},
   "outputs": [],
   "source": [
    "test_df['Body'] = test_df['Body'].apply(lambda x: clean_text(x)) "
   ]
  },
  {
   "cell_type": "code",
   "execution_count": 357,
   "metadata": {
    "_uuid": "e2b3cfc4fbb0482324dc1937d8411feb5334f7d2",
    "execution": {
     "iopub.execute_input": "2022-11-27T14:37:30.882110Z",
     "iopub.status.busy": "2022-11-27T14:37:30.881387Z",
     "iopub.status.idle": "2022-11-27T14:37:30.887930Z",
     "shell.execute_reply": "2022-11-27T14:37:30.886550Z",
     "shell.execute_reply.started": "2022-11-27T14:37:30.882028Z"
    }
   },
   "outputs": [],
   "source": [
    "token=ToktokTokenizer()"
   ]
  },
  {
   "cell_type": "code",
   "execution_count": 358,
   "metadata": {
    "_uuid": "e96435d0bb6d758f5868ae7cf1561e28293b21e0",
    "execution": {
     "iopub.execute_input": "2022-11-27T14:37:34.245920Z",
     "iopub.status.busy": "2022-11-27T14:37:34.245337Z",
     "iopub.status.idle": "2022-11-27T14:37:34.252963Z",
     "shell.execute_reply": "2022-11-27T14:37:34.251659Z",
     "shell.execute_reply.started": "2022-11-27T14:37:34.245845Z"
    }
   },
   "outputs": [
    {
     "data": {
      "text/plain": [
       "'!\"#$%&\\'()*+,-./:;<=>?@[\\\\]^_`{|}~'"
      ]
     },
     "execution_count": 358,
     "metadata": {},
     "output_type": "execute_result"
    }
   ],
   "source": [
    "punctuation"
   ]
  },
  {
   "cell_type": "code",
   "execution_count": 359,
   "metadata": {
    "_uuid": "52c525eabf07b51a54af954f4adc7404febdf27e",
    "execution": {
     "iopub.execute_input": "2022-11-27T14:37:36.465268Z",
     "iopub.status.busy": "2022-11-27T14:37:36.464919Z",
     "iopub.status.idle": "2022-11-27T14:37:36.471019Z",
     "shell.execute_reply": "2022-11-27T14:37:36.469410Z",
     "shell.execute_reply.started": "2022-11-27T14:37:36.465218Z"
    }
   },
   "outputs": [],
   "source": [
    "punct = '!\"#$%&\\'()*+,./:;<=>?@[\\\\]^_`{|}~'"
   ]
  },
  {
   "cell_type": "code",
   "execution_count": 360,
   "metadata": {
    "_uuid": "7681b82ec0d4e8fb87fc7c2a2d7e90f00184bdb7",
    "execution": {
     "iopub.execute_input": "2022-11-27T14:37:38.678059Z",
     "iopub.status.busy": "2022-11-27T14:37:38.677667Z",
     "iopub.status.idle": "2022-11-27T14:37:38.684598Z",
     "shell.execute_reply": "2022-11-27T14:37:38.683227Z",
     "shell.execute_reply.started": "2022-11-27T14:37:38.677999Z"
    }
   },
   "outputs": [],
   "source": [
    "def strip_list_noempty(mylist):\n",
    "    newlist = (item.strip() if hasattr(item, 'strip') else item for item in mylist)\n",
    "    return [item for item in newlist if item != '']"
   ]
  },
  {
   "cell_type": "code",
   "execution_count": 361,
   "metadata": {
    "_uuid": "e8d4bb83559025f06a5bae00aa511f5985bb56bd",
    "execution": {
     "iopub.execute_input": "2022-11-27T14:37:41.125769Z",
     "iopub.status.busy": "2022-11-27T14:37:41.125392Z",
     "iopub.status.idle": "2022-11-27T14:37:41.132309Z",
     "shell.execute_reply": "2022-11-27T14:37:41.131289Z",
     "shell.execute_reply.started": "2022-11-27T14:37:41.125704Z"
    }
   },
   "outputs": [],
   "source": [
    "def clean_punct(text): \n",
    "    words=token.tokenize(text)\n",
    "    punctuation_filtered = []\n",
    "    regex = re.compile('[%s]' % re.escape(punct))\n",
    "    remove_punctuation = str.maketrans(' ', ' ', punct)\n",
    "    for w in words:\n",
    "        if w in tags_features:\n",
    "            punctuation_filtered.append(w)\n",
    "        else:\n",
    "            punctuation_filtered.append(regex.sub('', w))\n",
    "  \n",
    "    filtered_list = strip_list_noempty(punctuation_filtered)\n",
    "        \n",
    "    return ' '.join(map(str, filtered_list))\n",
    "\n",
    "\n"
   ]
  },
  {
   "cell_type": "code",
   "execution_count": 362,
   "metadata": {
    "_uuid": "997064cd595544af307751a19ac0680a392a79a4",
    "execution": {
     "iopub.execute_input": "2022-11-27T14:37:50.373399Z",
     "iopub.status.busy": "2022-11-27T14:37:50.373028Z",
     "iopub.status.idle": "2022-11-27T14:37:50.932504Z",
     "shell.execute_reply": "2022-11-27T14:37:50.931537Z",
     "shell.execute_reply.started": "2022-11-27T14:37:50.373335Z"
    }
   },
   "outputs": [],
   "source": [
    "new_df['Body'] = new_df['Body'].apply(lambda x: clean_punct(x)) "
   ]
  },
  {
   "cell_type": "code",
   "execution_count": 363,
   "metadata": {},
   "outputs": [],
   "source": [
    "test_df['Body'] = test_df['Body'].apply(lambda x: clean_punct(x)) "
   ]
  },
  {
   "cell_type": "code",
   "execution_count": 364,
   "metadata": {
    "_uuid": "c32de0e6fb753123485706a2655a68260de9741a",
    "execution": {
     "iopub.execute_input": "2022-11-27T14:37:50.934218Z",
     "iopub.status.busy": "2022-11-27T14:37:50.933905Z",
     "iopub.status.idle": "2022-11-27T14:37:50.941286Z",
     "shell.execute_reply": "2022-11-27T14:37:50.940230Z",
     "shell.execute_reply.started": "2022-11-27T14:37:50.934148Z"
    }
   },
   "outputs": [
    {
     "data": {
      "text/plain": [
       "'has anyone got experience creating sql-based asp.net site-map providers i have got the default xml file websitemap working properly with my menu and sitemappath controls but i will need a way for the users of my site to create and modify pages dynamically i need to tie page viewing permissions into the standard asp.net membership system as well'"
      ]
     },
     "execution_count": 364,
     "metadata": {},
     "output_type": "execute_result"
    }
   ],
   "source": [
    "new_df['Body'][2]"
   ]
  },
  {
   "cell_type": "code",
   "execution_count": 365,
   "metadata": {},
   "outputs": [
    {
     "data": {
      "text/plain": [
       "'i am learning servlets programming using apache tomcat 6 on a ubuntu 810 machine and i am running with a very annoying issue -- apparently related to caching this is what i am doing i write a servlet put it in a nice directory structure and deploy it using the tomcat web application manager it works as expected then i edit the servlet recompile and try to access it again but tomcat keeps returning the same old version reloading the application or even restarting the server does not work the only thing that works is undeploying the application then deploying it all over again i have to do this every single time i make any small change on my code it sucks i am sure there is a way around this but i could not find the answer anywhere on the web and i did search a lot i would really appreciate any help thanks'"
      ]
     },
     "execution_count": 365,
     "metadata": {},
     "output_type": "execute_result"
    }
   ],
   "source": [
    "test_df['Body'][6003]"
   ]
  },
  {
   "cell_type": "code",
   "execution_count": 366,
   "metadata": {
    "_uuid": "b18fd3ceb79801c3737758607e39ff6881dc1f0b",
    "execution": {
     "iopub.execute_input": "2022-11-27T14:37:50.943103Z",
     "iopub.status.busy": "2022-11-27T14:37:50.942659Z",
     "iopub.status.idle": "2022-11-27T14:37:50.954168Z",
     "shell.execute_reply": "2022-11-27T14:37:50.953415Z",
     "shell.execute_reply.started": "2022-11-27T14:37:50.943040Z"
    }
   },
   "outputs": [],
   "source": [
    "lemma=WordNetLemmatizer()\n",
    "stop_words = set(stopwords.words(\"english\"))"
   ]
  },
  {
   "cell_type": "code",
   "execution_count": 367,
   "metadata": {
    "_uuid": "7adfb53ebffef9af3068171d4f4e8e7b4b959527",
    "execution": {
     "iopub.execute_input": "2022-11-27T14:37:50.955758Z",
     "iopub.status.busy": "2022-11-27T14:37:50.955331Z",
     "iopub.status.idle": "2022-11-27T14:37:50.966415Z",
     "shell.execute_reply": "2022-11-27T14:37:50.965551Z",
     "shell.execute_reply.started": "2022-11-27T14:37:50.955702Z"
    }
   },
   "outputs": [],
   "source": [
    "def lemitizeWords(text):\n",
    "    words=token.tokenize(text)\n",
    "    listLemma=[]\n",
    "    for w in words:\n",
    "        x=lemma.lemmatize(w, pos=\"v\")\n",
    "        listLemma.append(x)\n",
    "    return ' '.join(map(str, listLemma))\n",
    "\n",
    "def stopWordsRemove(text):\n",
    "    \n",
    "    stop_words = set(stopwords.words(\"english\"))\n",
    "    \n",
    "    words=token.tokenize(text)\n",
    "    \n",
    "    filtered = [w for w in words if not w in stop_words]\n",
    "    \n",
    "    return ' '.join(map(str, filtered))"
   ]
  },
  {
   "cell_type": "code",
   "execution_count": 368,
   "metadata": {
    "_uuid": "32e75ae4b01dcafb295fceb59a1f973b1d5d4b86",
    "execution": {
     "iopub.execute_input": "2022-11-27T14:37:50.968160Z",
     "iopub.status.busy": "2022-11-27T14:37:50.967816Z",
     "iopub.status.idle": "2022-11-27T14:37:52.176154Z",
     "shell.execute_reply": "2022-11-27T14:37:52.175350Z",
     "shell.execute_reply.started": "2022-11-27T14:37:50.968066Z"
    }
   },
   "outputs": [],
   "source": [
    "new_df['Body'] = new_df['Body'].apply(lambda x: lemitizeWords(x)) \n",
    "new_df['Body'] = new_df['Body'].apply(lambda x: stopWordsRemove(x)) "
   ]
  },
  {
   "cell_type": "code",
   "execution_count": 369,
   "metadata": {},
   "outputs": [],
   "source": [
    "test_df['Body'] = test_df['Body'].apply(lambda x: lemitizeWords(x)) \n",
    "test_df['Body'] = test_df['Body'].apply(lambda x: stopWordsRemove(x)) "
   ]
  },
  {
   "cell_type": "markdown",
   "metadata": {
    "_uuid": "8ae7426282e33a923238b13dddf083700bfaa360"
   },
   "source": [
    "**1.2.3 Title**"
   ]
  },
  {
   "cell_type": "code",
   "execution_count": 370,
   "metadata": {
    "_uuid": "5151ce53b67e2a7a94565e28171d4dded9f3c390",
    "execution": {
     "iopub.execute_input": "2022-11-27T14:37:52.177896Z",
     "iopub.status.busy": "2022-11-27T14:37:52.177512Z",
     "iopub.status.idle": "2022-11-27T14:37:53.575615Z",
     "shell.execute_reply": "2022-11-27T14:37:53.574359Z",
     "shell.execute_reply.started": "2022-11-27T14:37:52.177828Z"
    }
   },
   "outputs": [],
   "source": [
    "new_df['Title'] = new_df['Title'].apply(lambda x: str(x))\n",
    "new_df['Title'] = new_df['Title'].apply(lambda x: clean_text(x)) \n",
    "new_df['Title'] = new_df['Title'].apply(lambda x: clean_punct(x)) \n",
    "new_df['Title'] = new_df['Title'].apply(lambda x: lemitizeWords(x)) \n",
    "new_df['Title'] = new_df['Title'].apply(lambda x: stopWordsRemove(x)) "
   ]
  },
  {
   "cell_type": "code",
   "execution_count": 371,
   "metadata": {},
   "outputs": [],
   "source": [
    "test_df['Title'] = test_df['Title'].apply(lambda x: str(x))\n",
    "test_df['Title'] = test_df['Title'].apply(lambda x: clean_text(x)) \n",
    "test_df['Title'] = test_df['Title'].apply(lambda x: clean_punct(x)) \n",
    "test_df['Title'] = test_df['Title'].apply(lambda x: lemitizeWords(x)) \n",
    "test_df['Title'] = test_df['Title'].apply(lambda x: stopWordsRemove(x))"
   ]
  },
  {
   "cell_type": "markdown",
   "metadata": {
    "_uuid": "fe90f28a386d20375d1ec8c40dec91684802142e"
   },
   "source": [
    "**1.3 EDA**"
   ]
  },
  {
   "cell_type": "markdown",
   "metadata": {
    "_uuid": "7103674c5e35809eb0b89c0fa86bdb1ec2f76af9"
   },
   "source": [
    "Here I'll just use some LDA to see if shows any paterns in words and the main topics.  "
   ]
  },
  {
   "cell_type": "code",
   "execution_count": 372,
   "metadata": {
    "_uuid": "14aee1be48cf9da95ba0b6f4425ba99a13713d40",
    "execution": {
     "iopub.execute_input": "2022-11-27T14:37:53.577559Z",
     "iopub.status.busy": "2022-11-27T14:37:53.577156Z",
     "iopub.status.idle": "2022-11-27T14:37:53.582625Z",
     "shell.execute_reply": "2022-11-27T14:37:53.581756Z",
     "shell.execute_reply.started": "2022-11-27T14:37:53.577486Z"
    }
   },
   "outputs": [],
   "source": [
    "no_topics = 20"
   ]
  },
  {
   "cell_type": "code",
   "execution_count": 373,
   "metadata": {
    "_uuid": "bdba110b6091d86d5af652c2c54caf688690e82f",
    "execution": {
     "iopub.execute_input": "2022-11-27T14:37:53.584189Z",
     "iopub.status.busy": "2022-11-27T14:37:53.583948Z",
     "iopub.status.idle": "2022-11-27T14:37:53.596740Z",
     "shell.execute_reply": "2022-11-27T14:37:53.595904Z",
     "shell.execute_reply.started": "2022-11-27T14:37:53.584146Z"
    }
   },
   "outputs": [],
   "source": [
    "text = new_df['Body']"
   ]
  },
  {
   "cell_type": "code",
   "execution_count": 374,
   "metadata": {
    "_uuid": "42b4c014172c9e2b55705d5e80f7e0a0d5d0424f",
    "execution": {
     "iopub.execute_input": "2022-11-27T14:37:53.598378Z",
     "iopub.status.busy": "2022-11-27T14:37:53.598088Z",
     "iopub.status.idle": "2022-11-27T14:37:53.644360Z",
     "shell.execute_reply": "2022-11-27T14:37:53.643027Z",
     "shell.execute_reply.started": "2022-11-27T14:37:53.598327Z"
    }
   },
   "outputs": [],
   "source": [
    "vectorizer_train = TfidfVectorizer(analyzer = 'word',\n",
    "                                       min_df=0.0,\n",
    "                                       max_df = 1.0,\n",
    "                                       strip_accents = None,\n",
    "                                       encoding = 'utf-8', \n",
    "                                       preprocessor=None,\n",
    "                                       token_pattern=r\"(?u)\\S\\S+\", # Need to repeat token pattern\n",
    "                                       max_features=1000)"
   ]
  },
  {
   "cell_type": "code",
   "execution_count": 375,
   "metadata": {
    "_uuid": "70c71f3bd686f989e504d8574b645b3bc3026e84",
    "execution": {
     "iopub.execute_input": "2022-11-27T14:37:53.646451Z",
     "iopub.status.busy": "2022-11-27T14:37:53.646008Z",
     "iopub.status.idle": "2022-11-27T14:37:53.727147Z",
     "shell.execute_reply": "2022-11-27T14:37:53.726431Z",
     "shell.execute_reply.started": "2022-11-27T14:37:53.646249Z"
    }
   },
   "outputs": [],
   "source": [
    "TF_IDF_matrix = vectorizer_train.fit_transform(text)"
   ]
  },
  {
   "cell_type": "code",
   "execution_count": 376,
   "metadata": {
    "_uuid": "6f8c7f50bea68a8b3878bdf91da12d87434863de",
    "execution": {
     "iopub.execute_input": "2022-11-27T14:37:53.728958Z",
     "iopub.status.busy": "2022-11-27T14:37:53.728300Z",
     "iopub.status.idle": "2022-11-27T14:37:54.480927Z",
     "shell.execute_reply": "2022-11-27T14:37:54.480132Z",
     "shell.execute_reply.started": "2022-11-27T14:37:53.728871Z"
    }
   },
   "outputs": [],
   "source": [
    "lda = LatentDirichletAllocation(max_iter=5, n_components= 20,learning_method='online', learning_offset=50,random_state=11).fit(TF_IDF_matrix)"
   ]
  },
  {
   "cell_type": "code",
   "execution_count": 377,
   "metadata": {
    "_uuid": "07526c92eb492e38f47d9d1bddeedbfdb36a25a9",
    "execution": {
     "iopub.execute_input": "2022-11-27T14:37:54.482607Z",
     "iopub.status.busy": "2022-11-27T14:37:54.482068Z",
     "iopub.status.idle": "2022-11-27T14:37:54.499784Z",
     "shell.execute_reply": "2022-11-27T14:37:54.498733Z",
     "shell.execute_reply.started": "2022-11-27T14:37:54.482551Z"
    }
   },
   "outputs": [
    {
     "name": "stdout",
     "output_type": "stream",
     "text": [
      "--------------------------------------------\n",
      "Topic 0:\n",
      "android div image width height css style html id text\n",
      "--------------------------------------------\n",
      "--------------------------------------------\n",
      "Topic 1:\n",
      "url request mvc controller asp.net session page http action view\n",
      "--------------------------------------------\n",
      "--------------------------------------------\n",
      "Topic 2:\n",
      "class public object method void new return string type call\n",
      "--------------------------------------------\n",
      "--------------------------------------------\n",
      "Topic 3:\n",
      "color button window bind wpf text view video control label\n",
      "--------------------------------------------\n",
      "--------------------------------------------\n",
      "Topic 4:\n",
      "visual studio 2010 vs xcode 2008 phone debug mac windows\n",
      "--------------------------------------------\n",
      "--------------------------------------------\n",
      "Topic 5:\n",
      "c++ equivalent c# frame struct ref stack pointer similar prevent\n",
      "--------------------------------------------\n",
      "--------------------------------------------\n",
      "Topic 6:\n",
      "cache lock process child exit wait dynamic finish thread active\n",
      "--------------------------------------------\n",
      "--------------------------------------------\n",
      "Topic 7:\n",
      "int 124 array return string std value use code function\n",
      "--------------------------------------------\n",
      "--------------------------------------------\n",
      "Topic 8:\n",
      "hello convert world perl integer javascript fetch c# resources string\n",
      "--------------------------------------------\n",
      "--------------------------------------------\n",
      "Topic 9:\n",
      "hash intent bytes 13 necessary libraries nest share library connect\n",
      "--------------------------------------------\n",
      "--------------------------------------------\n",
      "Topic 10:\n",
      "log gem connection server login user account authentication domain connect\n",
      "--------------------------------------------\n",
      "--------------------------------------------\n",
      "Topic 11:\n",
      "table query select sql database column id row value mysql\n",
      "--------------------------------------------\n",
      "--------------------------------------------\n",
      "Topic 12:\n",
      "function jquery page event form javascript var use click script\n",
      "--------------------------------------------\n",
      "--------------------------------------------\n",
      "Topic 13:\n",
      "git date commit branch repository difference month master merge bar\n",
      "--------------------------------------------\n",
      "--------------------------------------------\n",
      "Topic 14:\n",
      "email 00 emacs address vim decimal socket send message port\n",
      "--------------------------------------------\n",
      "--------------------------------------------\n",
      "Topic 15:\n",
      "cell row td table tr element border elements guy duplicate\n",
      "--------------------------------------------\n",
      "--------------------------------------------\n",
      "Topic 16:\n",
      "string character line file like use text way want would\n",
      "--------------------------------------------\n",
      "--------------------------------------------\n",
      "Topic 17:\n",
      "file use run error get project application try work command\n",
      "--------------------------------------------\n",
      "--------------------------------------------\n",
      "Topic 18:\n",
      "thread service wcf xmlns root namespace client web mean term\n",
      "--------------------------------------------\n",
      "--------------------------------------------\n",
      "Topic 19:\n",
      "use would like know find one code need look way\n",
      "--------------------------------------------\n"
     ]
    }
   ],
   "source": [
    "def display_topics(model, feature_names, no_top_words):\n",
    "    for topic_idx, topic in enumerate(model.components_):\n",
    "        print(\"--------------------------------------------\")\n",
    "        print(\"Topic %d:\" % (topic_idx))\n",
    "        print(\" \".join([feature_names[i]\n",
    "                        for i in topic.argsort()[:-no_top_words - 1:-1]]))\n",
    "        print(\"--------------------------------------------\")\n",
    "        \n",
    "\n",
    "no_top_words = 10\n",
    "display_topics(lda, vectorizer_train.get_feature_names(), no_top_words)"
   ]
  },
  {
   "cell_type": "markdown",
   "metadata": {
    "_uuid": "709f989864c43312c2a3606583be434572b75e40"
   },
   "source": [
    "It's a bit disappointing but I'm certain that it can be done better. "
   ]
  },
  {
   "cell_type": "markdown",
   "metadata": {
    "_uuid": "119c8c35293cccd9627b58544acaaf06b4cb32d2"
   },
   "source": [
    "**PART 2: Classical classifiers**"
   ]
  },
  {
   "cell_type": "markdown",
   "metadata": {
    "_uuid": "4d7d89ca6323645d6bf722bd572852edc2b9571c"
   },
   "source": [
    "**2.1 Data preparation**"
   ]
  },
  {
   "cell_type": "markdown",
   "metadata": {
    "_uuid": "ccbc4065cdf68e9ef58fcad2889fc7454372425a"
   },
   "source": [
    "Now our data is almost ready to be put into a classifier. I just need to:\n",
    "* Binarize the tags\n",
    "* Use a TFIDF for body and Title\n",
    "The parameters in the TFIDF are very important for the performance of our tags since we don't want him to delete words like c# or.net. To do that we need to use the following pattern : token_pattern=r\"(?u)\\S\\S+\""
   ]
  },
  {
   "cell_type": "code",
   "execution_count": 378,
   "metadata": {
    "_uuid": "8640de349b18ea297f15c3d3eed3836d3ed19e14",
    "execution": {
     "iopub.execute_input": "2022-11-27T14:37:54.503119Z",
     "iopub.status.busy": "2022-11-27T14:37:54.502590Z",
     "iopub.status.idle": "2022-11-27T14:37:54.510947Z",
     "shell.execute_reply": "2022-11-27T14:37:54.510170Z",
     "shell.execute_reply.started": "2022-11-27T14:37:54.503043Z"
    }
   },
   "outputs": [],
   "source": [
    "X1 = new_df['Body']\n",
    "X2 = new_df['Title']\n",
    "y = new_df['Tags']"
   ]
  },
  {
   "cell_type": "code",
   "execution_count": 379,
   "metadata": {},
   "outputs": [],
   "source": [
    "X3 = test_df['Body']\n",
    "X4 = test_df['Title']"
   ]
  },
  {
   "cell_type": "code",
   "execution_count": 380,
   "metadata": {},
   "outputs": [
    {
     "name": "stdout",
     "output_type": "stream",
     "text": [
      "<class 'pandas.core.series.Series'>\n",
      "<class 'pandas.core.series.Series'>\n"
     ]
    }
   ],
   "source": [
    "print(type(X1))\n",
    "print(type(X3))"
   ]
  },
  {
   "cell_type": "code",
   "execution_count": 381,
   "metadata": {
    "_uuid": "a4669f647cb5a147710294f1116ac4e2f29f50d7",
    "execution": {
     "iopub.execute_input": "2022-11-27T14:37:54.513017Z",
     "iopub.status.busy": "2022-11-27T14:37:54.512767Z",
     "iopub.status.idle": "2022-11-27T14:37:54.530366Z",
     "shell.execute_reply": "2022-11-27T14:37:54.529190Z",
     "shell.execute_reply.started": "2022-11-27T14:37:54.512971Z"
    }
   },
   "outputs": [],
   "source": [
    "multilabel_binarizer = MultiLabelBinarizer()\n",
    "y_bin = multilabel_binarizer.fit_transform(y)"
   ]
  },
  {
   "cell_type": "code",
   "execution_count": 382,
   "metadata": {
    "execution": {
     "iopub.execute_input": "2022-11-27T15:02:43.905654Z",
     "iopub.status.busy": "2022-11-27T15:02:43.905155Z",
     "iopub.status.idle": "2022-11-27T15:02:43.945910Z",
     "shell.execute_reply": "2022-11-27T15:02:43.944776Z",
     "shell.execute_reply.started": "2022-11-27T15:02:43.905579Z"
    }
   },
   "outputs": [
    {
     "data": {
      "text/plain": [
       "<bound method NDFrame.head of                                                     Title  \\\n",
       "1                 good branch merge tutorials tortoisesvn   \n",
       "2                                        asp.net site map   \n",
       "3                             function create color wheel   \n",
       "4              add script functionality .net applications   \n",
       "5                                     use nest class case   \n",
       "...                                                   ...   \n",
       "177773            lossless hierarchical run length encode   \n",
       "177790                     inheritance resource file resx   \n",
       "177816                               integrate app google   \n",
       "177833           django handle multiple memcached servers   \n",
       "177861  document ready necessary put javascript bottom...   \n",
       "\n",
       "                                                     Body  \\\n",
       "1       really good tutorials explain branch merge apa...   \n",
       "2       anyone get experience create sql-based asp.net...   \n",
       "3       something pseudo-solved many time never quite ...   \n",
       "4       little game write c use database back-end trad...   \n",
       "5       work collection class use video playback recor...   \n",
       "...                                                   ...   \n",
       "177773  want summarize rather compress similar manner ...   \n",
       "177790  imagine work .net 40 project make hundreds ass...   \n",
       "177816  way integrate google app app read post post so...   \n",
       "177833  django documentation say one excellent feature...   \n",
       "177861  possible duplicate jquery - document ready nec...   \n",
       "\n",
       "                                                   Tags  \n",
       "1                                                 [svn]  \n",
       "2                                        [sql, asp.net]  \n",
       "3                        [algorithm, language-agnostic]  \n",
       "4                                            [c#, .net]  \n",
       "5                                     [c++, oop, class]  \n",
       "...                                                 ...  \n",
       "177773                                      [algorithm]  \n",
       "177790                                             [c#]  \n",
       "177816                                        [android]  \n",
       "177833                                 [python, django]  \n",
       "177861  [javascript, jquery, performance, optimization]  \n",
       "\n",
       "[26239 rows x 3 columns]>"
      ]
     },
     "execution_count": 382,
     "metadata": {},
     "output_type": "execute_result"
    }
   ],
   "source": [
    "new_df.head"
   ]
  },
  {
   "cell_type": "code",
   "execution_count": 383,
   "metadata": {
    "execution": {
     "iopub.execute_input": "2022-11-27T15:01:15.840305Z",
     "iopub.status.busy": "2022-11-27T15:01:15.839731Z",
     "iopub.status.idle": "2022-11-27T15:01:15.847359Z",
     "shell.execute_reply": "2022-11-27T15:01:15.845990Z",
     "shell.execute_reply.started": "2022-11-27T15:01:15.840253Z"
    }
   },
   "outputs": [
    {
     "data": {
      "text/plain": [
       "array([0, 0, 0, 0, 0, 0, 0, 0, 0, 0, 0, 1, 1, 0, 0, 0, 0, 0, 0, 0, 0, 0,\n",
       "       0, 0, 0, 0, 0, 0, 0, 0, 0, 0, 0, 0, 0, 0, 0, 0, 0, 0, 0, 0, 0, 0,\n",
       "       0, 0, 0, 0, 0, 0, 0, 0, 0, 1, 0, 0, 0, 0, 0, 0, 0, 0, 0, 0, 0, 0,\n",
       "       0, 0, 0, 0, 0, 0, 0, 0, 0, 0, 0, 0, 0, 0, 0, 0, 0, 0, 0, 0, 0, 0,\n",
       "       0, 0, 0, 0, 0, 0, 0, 0, 0, 0, 0, 0])"
      ]
     },
     "execution_count": 383,
     "metadata": {},
     "output_type": "execute_result"
    }
   ],
   "source": [
    "y_bin[4]"
   ]
  },
  {
   "cell_type": "code",
   "execution_count": 384,
   "metadata": {
    "execution": {
     "iopub.execute_input": "2022-11-27T14:59:37.522776Z",
     "iopub.status.busy": "2022-11-27T14:59:37.522388Z",
     "iopub.status.idle": "2022-11-27T14:59:37.532721Z",
     "shell.execute_reply": "2022-11-27T14:59:37.531256Z",
     "shell.execute_reply.started": "2022-11-27T14:59:37.522713Z"
    }
   },
   "outputs": [
    {
     "data": {
      "text/plain": [
       "['.net',\n",
       " 'ajax',\n",
       " 'algorithm',\n",
       " 'android',\n",
       " 'arrays',\n",
       " 'asp.net',\n",
       " 'asp.net-mvc',\n",
       " 'asp.net-mvc-3',\n",
       " 'bash',\n",
       " 'c',\n",
       " 'c#',\n",
       " 'c++',\n",
       " 'class',\n",
       " 'cocoa',\n",
       " 'cocoa-touch',\n",
       " 'css',\n",
       " 'database',\n",
       " 'date',\n",
       " 'datetime',\n",
       " 'debugging',\n",
       " 'delphi',\n",
       " 'design-patterns',\n",
       " 'django',\n",
       " 'eclipse',\n",
       " 'emacs',\n",
       " 'entity-framework',\n",
       " 'exception',\n",
       " 'file',\n",
       " 'function',\n",
       " 'gcc',\n",
       " 'generics',\n",
       " 'git',\n",
       " 'haskell',\n",
       " 'hibernate',\n",
       " 'html',\n",
       " 'html5',\n",
       " 'http',\n",
       " 'image',\n",
       " 'ios',\n",
       " 'ipad',\n",
       " 'iphone',\n",
       " 'java',\n",
       " 'javascript',\n",
       " 'jquery',\n",
       " 'json',\n",
       " 'language-agnostic',\n",
       " 'linq',\n",
       " 'linux',\n",
       " 'list',\n",
       " 'math',\n",
       " 'multithreading',\n",
       " 'mysql',\n",
       " 'objective-c',\n",
       " 'oop',\n",
       " 'optimization',\n",
       " 'oracle',\n",
       " 'osx',\n",
       " 'parsing',\n",
       " 'performance',\n",
       " 'perl',\n",
       " 'php',\n",
       " 'python',\n",
       " 'qt',\n",
       " 'r',\n",
       " 'reflection',\n",
       " 'regex',\n",
       " 'ruby',\n",
       " 'ruby-on-rails',\n",
       " 'ruby-on-rails-3',\n",
       " 'scala',\n",
       " 'security',\n",
       " 'shell',\n",
       " 'spring',\n",
       " 'sql',\n",
       " 'sql-server',\n",
       " 'sql-server-2005',\n",
       " 'sql-server-2008',\n",
       " 'string',\n",
       " 'svn',\n",
       " 'swing',\n",
       " 'templates',\n",
       " 'testing',\n",
       " 'tsql',\n",
       " 'types',\n",
       " 'unit-testing',\n",
       " 'user-interface',\n",
       " 'validation',\n",
       " 'vb.net',\n",
       " 'version-control',\n",
       " 'vim',\n",
       " 'visual-studio',\n",
       " 'visual-studio-2008',\n",
       " 'visual-studio-2010',\n",
       " 'wcf',\n",
       " 'web-services',\n",
       " 'windows',\n",
       " 'winforms',\n",
       " 'wpf',\n",
       " 'xcode',\n",
       " 'xml']"
      ]
     },
     "execution_count": 384,
     "metadata": {},
     "output_type": "execute_result"
    }
   ],
   "source": [
    "list(multilabel_binarizer.classes_)"
   ]
  },
  {
   "cell_type": "code",
   "execution_count": 385,
   "metadata": {
    "execution": {
     "iopub.execute_input": "2022-11-27T14:57:08.255911Z",
     "iopub.status.busy": "2022-11-27T14:57:08.255542Z",
     "iopub.status.idle": "2022-11-27T14:57:08.262075Z",
     "shell.execute_reply": "2022-11-27T14:57:08.261171Z",
     "shell.execute_reply.started": "2022-11-27T14:57:08.255854Z"
    }
   },
   "outputs": [
    {
     "data": {
      "text/plain": [
       "26239"
      ]
     },
     "execution_count": 385,
     "metadata": {},
     "output_type": "execute_result"
    }
   ],
   "source": [
    "len(y_bin)"
   ]
  },
  {
   "cell_type": "code",
   "execution_count": 386,
   "metadata": {
    "_uuid": "e8fd01469710da8a69fc45de00d37901d570814a",
    "execution": {
     "iopub.execute_input": "2022-11-27T14:37:54.532865Z",
     "iopub.status.busy": "2022-11-27T14:37:54.532410Z",
     "iopub.status.idle": "2022-11-27T14:37:54.581050Z",
     "shell.execute_reply": "2022-11-27T14:37:54.580247Z",
     "shell.execute_reply.started": "2022-11-27T14:37:54.532791Z"
    }
   },
   "outputs": [],
   "source": [
    "vectorizer_X1 = TfidfVectorizer(analyzer = 'word',\n",
    "                                       min_df=0.0,\n",
    "                                       max_df = 1.0,\n",
    "                                       strip_accents = None,\n",
    "                                       encoding = 'utf-8', \n",
    "                                       preprocessor=None,\n",
    "                                       token_pattern=r\"(?u)\\S\\S+\",\n",
    "                                       max_features=1000)\n",
    "\n",
    "vectorizer_X2 = TfidfVectorizer(analyzer = 'word',\n",
    "                                       min_df=0.0,\n",
    "                                       max_df = 1.0,\n",
    "                                       strip_accents = None,\n",
    "                                       encoding = 'utf-8', \n",
    "                                       preprocessor=None,\n",
    "                                       token_pattern=r\"(?u)\\S\\S+\",\n",
    "                                       max_features=1000)"
   ]
  },
  {
   "cell_type": "code",
   "execution_count": 387,
   "metadata": {},
   "outputs": [],
   "source": [
    "vectorizer_X3 = TfidfVectorizer(analyzer = 'word',\n",
    "                                       min_df=0.0,\n",
    "                                       max_df = 1.0,\n",
    "                                       strip_accents = None,\n",
    "                                       encoding = 'utf-8', \n",
    "                                       preprocessor=None,\n",
    "                                       token_pattern=r\"(?u)\\S\\S+\",\n",
    "                                       max_features=1000)\n",
    "\n",
    "vectorizer_X4 = TfidfVectorizer(analyzer = 'word',\n",
    "                                       min_df=0.0,\n",
    "                                       max_df = 1.0,\n",
    "                                       strip_accents = None,\n",
    "                                       encoding = 'utf-8', \n",
    "                                       preprocessor=None,\n",
    "                                       token_pattern=r\"(?u)\\S\\S+\",\n",
    "                                       max_features=1000)"
   ]
  },
  {
   "cell_type": "code",
   "execution_count": 388,
   "metadata": {
    "_uuid": "2fa0c121a6510f161df99e7fd882534214a8e380",
    "execution": {
     "iopub.execute_input": "2022-11-27T14:37:54.582873Z",
     "iopub.status.busy": "2022-11-27T14:37:54.582426Z",
     "iopub.status.idle": "2022-11-27T14:37:54.682022Z",
     "shell.execute_reply": "2022-11-27T14:37:54.681187Z",
     "shell.execute_reply.started": "2022-11-27T14:37:54.582808Z"
    }
   },
   "outputs": [],
   "source": [
    "X1_tfidf = vectorizer_X1.fit_transform(X1)\n",
    "X2_tfidf = vectorizer_X2.fit_transform(X2)"
   ]
  },
  {
   "cell_type": "code",
   "execution_count": 389,
   "metadata": {},
   "outputs": [
    {
     "data": {
      "text/plain": [
       "<26239x1000 sparse matrix of type '<class 'numpy.float64'>'\n",
       "\twith 740048 stored elements in Compressed Sparse Row format>"
      ]
     },
     "execution_count": 389,
     "metadata": {},
     "output_type": "execute_result"
    }
   ],
   "source": [
    "X1_tfidf"
   ]
  },
  {
   "cell_type": "code",
   "execution_count": 390,
   "metadata": {},
   "outputs": [],
   "source": [
    "X3_tfidf = vectorizer_X1.fit_transform(X3)\n",
    "X4_tfidf = vectorizer_X2.fit_transform(X4)"
   ]
  },
  {
   "cell_type": "code",
   "execution_count": 391,
   "metadata": {},
   "outputs": [
    {
     "data": {
      "text/plain": [
       "<100x1000 sparse matrix of type '<class 'numpy.float64'>'\n",
       "\twith 3350 stored elements in Compressed Sparse Row format>"
      ]
     },
     "execution_count": 391,
     "metadata": {},
     "output_type": "execute_result"
    }
   ],
   "source": [
    "X3_tfidf"
   ]
  },
  {
   "cell_type": "code",
   "execution_count": 392,
   "metadata": {},
   "outputs": [
    {
     "data": {
      "text/plain": [
       "<100x411 sparse matrix of type '<class 'numpy.float64'>'\n",
       "\twith 531 stored elements in Compressed Sparse Row format>"
      ]
     },
     "execution_count": 392,
     "metadata": {},
     "output_type": "execute_result"
    }
   ],
   "source": [
    "X4_tfidf"
   ]
  },
  {
   "cell_type": "code",
   "execution_count": 393,
   "metadata": {},
   "outputs": [
    {
     "data": {
      "text/plain": [
       "<100x411 sparse matrix of type '<class 'numpy.float64'>'\n",
       "\twith 531 stored elements in Compressed Sparse Row format>"
      ]
     },
     "execution_count": 393,
     "metadata": {},
     "output_type": "execute_result"
    }
   ],
   "source": [
    "X4_tfidf.reshape(100,-1)"
   ]
  },
  {
   "cell_type": "code",
   "execution_count": 394,
   "metadata": {
    "_uuid": "d241fca148de1384e5323d2b194feb52727d14e1",
    "execution": {
     "iopub.execute_input": "2022-11-27T14:37:54.683669Z",
     "iopub.status.busy": "2022-11-27T14:37:54.683181Z",
     "iopub.status.idle": "2022-11-27T14:37:54.689252Z",
     "shell.execute_reply": "2022-11-27T14:37:54.688160Z",
     "shell.execute_reply.started": "2022-11-27T14:37:54.683604Z"
    }
   },
   "outputs": [],
   "source": [
    "X_tfidf = hstack([X1_tfidf,X2_tfidf])"
   ]
  },
  {
   "cell_type": "code",
   "execution_count": 395,
   "metadata": {},
   "outputs": [
    {
     "data": {
      "text/plain": [
       "scipy.sparse.coo.coo_matrix"
      ]
     },
     "execution_count": 395,
     "metadata": {},
     "output_type": "execute_result"
    }
   ],
   "source": [
    "type(X_tfidf)"
   ]
  },
  {
   "cell_type": "code",
   "execution_count": 396,
   "metadata": {
    "_uuid": "1219d6cdc1f1d27c90910659f1be21a917f9288e",
    "execution": {
     "iopub.execute_input": "2022-11-27T14:37:54.691053Z",
     "iopub.status.busy": "2022-11-27T14:37:54.690480Z",
     "iopub.status.idle": "2022-11-27T14:37:54.707323Z",
     "shell.execute_reply": "2022-11-27T14:37:54.706505Z",
     "shell.execute_reply.started": "2022-11-27T14:37:54.690677Z"
    }
   },
   "outputs": [],
   "source": [
    "X_train, X_test, y_train, y_test = train_test_split(X_tfidf, y_bin, test_size = 0.2, random_state = 0) # Do 80/20 split"
   ]
  },
  {
   "cell_type": "markdown",
   "metadata": {
    "_uuid": "d9ba6707c5aef3d55a7a5a8d33182c87d83af703"
   },
   "source": [
    "Now it's finally ready. "
   ]
  },
  {
   "cell_type": "markdown",
   "metadata": {
    "_uuid": "6755c0843211713e0b4bf90cb4618cfdaa9fef85"
   },
   "source": [
    "**2.2 One vs Rest**"
   ]
  },
  {
   "cell_type": "markdown",
   "metadata": {
    "_uuid": "c4448315a460e141e1c8b079b809c1040e4fc050"
   },
   "source": [
    "To evaluate our models, I'll use the jacard score since it's the best fitted for multi label classification. "
   ]
  },
  {
   "cell_type": "code",
   "execution_count": 397,
   "metadata": {
    "_kg_hide-input": true,
    "_uuid": "03e10593770e8b27cb2a9574efcc9cd8b6dabbd6",
    "execution": {
     "iopub.execute_input": "2022-11-27T14:37:54.709020Z",
     "iopub.status.busy": "2022-11-27T14:37:54.708518Z",
     "iopub.status.idle": "2022-11-27T14:37:54.715026Z",
     "shell.execute_reply": "2022-11-27T14:37:54.714044Z",
     "shell.execute_reply.started": "2022-11-27T14:37:54.708949Z"
    }
   },
   "outputs": [],
   "source": [
    "def avg_jacard(y_true,y_pred):\n",
    "    '''\n",
    "    see https://en.wikipedia.org/wiki/Multi-label_classification#Statistics_and_evaluation_metrics\n",
    "    '''\n",
    "    jacard = np.minimum(y_true,y_pred).sum(axis=1) / np.maximum(y_true,y_pred).sum(axis=1)\n",
    "    \n",
    "    return jacard.mean()*100\n",
    "\n",
    "def print_score(y_pred, clf):\n",
    "    print(\"Clf: \", clf.__class__.__name__)\n",
    "    print(\"Jacard score: {}\".format(avg_jacard(y_test, y_pred)))\n",
    "    print(\"Hamming loss: {}\".format(hamming_loss(y_pred, y_test)*100))\n",
    "    print(\"Accuracy: {}\".format((accuracy_score(y_pred, y_test)*con)))\n",
    "    print(\"---\")    "
   ]
  },
  {
   "cell_type": "code",
   "execution_count": 398,
   "metadata": {
    "_kg_hide-input": true,
    "_uuid": "6fb3326bc2c812cd991ca969762e54190b548150",
    "execution": {
     "iopub.execute_input": "2022-11-27T14:37:54.716432Z",
     "iopub.status.busy": "2022-11-27T14:37:54.716149Z",
     "iopub.status.idle": "2022-11-27T14:37:56.154892Z",
     "shell.execute_reply": "2022-11-27T14:37:56.153989Z",
     "shell.execute_reply.started": "2022-11-27T14:37:54.716388Z"
    }
   },
   "outputs": [
    {
     "name": "stdout",
     "output_type": "stream",
     "text": [
      "Predicted: [(), (), (), (), (), (), (), (), (), ()]\n",
      "\n",
      "Actual:  [('ajax', 'javascript', 'jquery'), ('ruby-on-rails',), ('asp.net-mvc', 'c#'), ('.net', 'java'), ('ruby', 'ruby-on-rails', 'ruby-on-rails-3'), ('php',), ('html5', 'iphone', 'javascript'), ('sql',), ('javascript',), ('c++',)]\n",
      "Clf:  DummyClassifier\n",
      "Jacard score: 0.0\n",
      "Hamming loss: 1.6028963414634148\n",
      "Accuracy: 0.0\n",
      "---\n",
      "Predicted: [('ajax',), (), ('c#',), ('java',), ('ruby-on-rails',), ('php',), ('javascript',), ('sql',), (), ('c++',)]\n",
      "\n",
      "Actual:  [('ajax', 'javascript', 'jquery'), ('ruby-on-rails',), ('asp.net-mvc', 'c#'), ('.net', 'java'), ('ruby', 'ruby-on-rails', 'ruby-on-rails-3'), ('php',), ('html5', 'iphone', 'javascript'), ('sql',), ('javascript',), ('c++',)]\n",
      "Clf:  SGDClassifier\n",
      "Jacard score: 50.70566565040651\n",
      "Hamming loss: 0.9420731707317073\n",
      "Accuracy: 36.77591463414634\n",
      "---\n",
      "Predicted: [('ajax',), (), ('.net', 'c#'), ('java',), ('ruby-on-rails',), ('php',), ('javascript',), ('sql',), (), ('c++',)]\n",
      "\n",
      "Actual:  [('ajax', 'javascript', 'jquery'), ('ruby-on-rails',), ('asp.net-mvc', 'c#'), ('.net', 'java'), ('ruby', 'ruby-on-rails', 'ruby-on-rails-3'), ('php',), ('html5', 'iphone', 'javascript'), ('sql',), ('javascript',), ('c++',)]\n",
      "Clf:  LogisticRegression\n",
      "Jacard score: 45.439850101626014\n",
      "Hamming loss: 1.0251524390243902\n",
      "Accuracy: 32.16463414634146\n",
      "---\n",
      "Predicted: [('ajax', 'javascript', 'jquery'), ('ruby-on-rails',), ('c#',), ('java',), ('ruby-on-rails',), ('php',), ('html', 'javascript', 'jquery'), ('sql',), (), ('c++',)]\n",
      "\n",
      "Actual:  [('ajax', 'javascript', 'jquery'), ('ruby-on-rails',), ('asp.net-mvc', 'c#'), ('.net', 'java'), ('ruby', 'ruby-on-rails', 'ruby-on-rails-3'), ('php',), ('html5', 'iphone', 'javascript'), ('sql',), ('javascript',), ('c++',)]\n",
      "Clf:  MultinomialNB\n",
      "Jacard score: 37.89747568234611\n",
      "Hamming loss: 1.1859756097560976\n",
      "Accuracy: 24.752286585365855\n",
      "---\n",
      "Predicted: [('ajax', 'javascript', 'jquery'), ('ruby-on-rails',), ('.net', 'c#'), ('java',), ('ruby-on-rails',), ('php',), ('javascript',), ('sql',), ('javascript',), ('c++',)]\n",
      "\n",
      "Actual:  [('ajax', 'javascript', 'jquery'), ('ruby-on-rails',), ('asp.net-mvc', 'c#'), ('.net', 'java'), ('ruby', 'ruby-on-rails', 'ruby-on-rails-3'), ('php',), ('html5', 'iphone', 'javascript'), ('sql',), ('javascript',), ('c++',)]\n",
      "Clf:  LinearSVC\n",
      "Jacard score: 51.88389227642277\n",
      "Hamming loss: 1.0049542682926829\n",
      "Accuracy: 35.51829268292683\n",
      "---\n",
      "Predicted: [('ajax', 'c', 'javascript', 'jquery', 'json'), ('ruby', 'ruby-on-rails', 'visual-studio-2008'), ('.net', 'asp.net', 'c#'), ('java', 'vb.net'), ('python', 'ruby-on-rails'), ('php',), ('iphone', 'javascript'), ('mysql', 'sql', 'sql-server', 'sql-server-2005'), ('asp.net', 'c++', 'eclipse'), ('c++', 'templates')]\n",
      "\n",
      "Actual:  [('ajax', 'javascript', 'jquery'), ('ruby-on-rails',), ('asp.net-mvc', 'c#'), ('.net', 'java'), ('ruby', 'ruby-on-rails', 'ruby-on-rails-3'), ('php',), ('html5', 'iphone', 'javascript'), ('sql',), ('javascript',), ('c++',)]\n",
      "Clf:  Perceptron\n",
      "Jacard score: 45.313112478223\n",
      "Hamming loss: 1.5573551829268293\n",
      "Accuracy: 23.971036585365855\n",
      "---\n",
      "Predicted: [('ajax', 'javascript', 'json'), ('ruby', 'ruby-on-rails'), ('.net', 'asp.net', 'asp.net-mvc', 'c#'), ('java',), ('python', 'ruby-on-rails'), ('php',), ('javascript',), ('sql', 'sql-server-2005'), ('c++', 'javascript'), ('c++',)]\n",
      "\n",
      "Actual:  [('ajax', 'javascript', 'jquery'), ('ruby-on-rails',), ('asp.net-mvc', 'c#'), ('.net', 'java'), ('ruby', 'ruby-on-rails', 'ruby-on-rails-3'), ('php',), ('html5', 'iphone', 'javascript'), ('sql',), ('javascript',), ('c++',)]\n",
      "Clf:  PassiveAggressiveClassifier\n",
      "Jacard score: 47.802201292102204\n",
      "Hamming loss: 1.4157774390243902\n",
      "Accuracy: 27.515243902439025\n",
      "---\n"
     ]
    }
   ],
   "source": [
    "dummy = DummyClassifier()\n",
    "sgd = SGDClassifier()\n",
    "lr = LogisticRegression()\n",
    "mn = MultinomialNB()\n",
    "svc = LinearSVC()\n",
    "perceptron = Perceptron()\n",
    "pac = PassiveAggressiveClassifier()\n",
    "\n",
    "for classifier in [dummy, sgd, lr, mn, svc, perceptron, pac]:\n",
    "    clf = OneVsRestClassifier(classifier)\n",
    "    clf.fit(X_train, y_train)\n",
    "    y_pred = clf.predict(X_test)\n",
    "    print(\"Predicted:\",multilabel_binarizer.inverse_transform(y_pred[0:10,:]))\n",
    "    print(\"\\nActual: \",multilabel_binarizer.inverse_transform(y_test[0:10,:]))\n",
    "    print_score(y_pred, classifier)"
   ]
  }
 ],
 "metadata": {
  "kernelspec": {
   "display_name": "Python 3 (ipykernel)",
   "language": "python",
   "name": "python3"
  },
  "language_info": {
   "codemirror_mode": {
    "name": "ipython",
    "version": 3
   },
   "file_extension": ".py",
   "mimetype": "text/x-python",
   "name": "python",
   "nbconvert_exporter": "python",
   "pygments_lexer": "ipython3",
   "version": "3.9.7"
  }
 },
 "nbformat": 4,
 "nbformat_minor": 4
}
